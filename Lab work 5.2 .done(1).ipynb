{
 "cells": [
  {
   "cell_type": "markdown",
   "metadata": {},
   "source": [
    "___\n",
    "\n",
    "<a href='https://mainacademy.ua/'> <img src='https://mainacademy.ua/wp-content/uploads/2019/03/logo-main.png' alt = 'Хмм, щось з інтернетом'/></a>\n",
    "___\n",
    "\n",
    "# Module 5: Data analysis with NumPy and Pandas"
   ]
  },
  {
   "cell_type": "markdown",
   "metadata": {},
   "source": [
    "## Lab work 5.2\n",
    "\n"
   ]
  },
  {
   "cell_type": "markdown",
   "metadata": {},
   "source": [
    "#### Мета: \n",
    "\n",
    "* навчитися працювати із бібліотекою Pandas в Python."
   ]
  },
  {
   "cell_type": "markdown",
   "metadata": {},
   "source": [
    "### Завдання:"
   ]
  },
  {
   "cell_type": "code",
   "execution_count": 7,
   "metadata": {},
   "outputs": [],
   "source": [
    "import pandas as pd"
   ]
  },
  {
   "cell_type": "markdown",
   "metadata": {},
   "source": [
    "Вивести версію та конфігурацію бібліотеки:"
   ]
  },
  {
   "cell_type": "code",
   "execution_count": 8,
   "metadata": {},
   "outputs": [],
   "source": [
    "df = pd.read_csv('Ecommerce Purchases.csv')\n"
   ]
  },
  {
   "cell_type": "code",
   "execution_count": 11,
   "metadata": {},
   "outputs": [
    {
     "name": "stdout",
     "output_type": "stream",
     "text": [
      "pandas version: 1.5.3\n",
      "pandas configuration:\n"
     ]
    },
    {
     "name": "stderr",
     "output_type": "stream",
     "text": [
      "/Users/admin/anaconda3/lib/python3.10/site-packages/_distutils_hack/__init__.py:33: UserWarning: Setuptools is replacing distutils.\n",
      "  warnings.warn(\"Setuptools is replacing distutils.\")\n"
     ]
    },
    {
     "name": "stdout",
     "output_type": "stream",
     "text": [
      "\n",
      "INSTALLED VERSIONS\n",
      "------------------\n",
      "commit           : 2e218d10984e9919f0296931d92ea851c6a6faf5\n",
      "python           : 3.10.9.final.0\n",
      "python-bits      : 64\n",
      "OS               : Darwin\n",
      "OS-release       : 21.6.0\n",
      "Version          : Darwin Kernel Version 21.6.0: Mon Dec 19 20:43:09 PST 2022; root:xnu-8020.240.18~2/RELEASE_ARM64_T6000\n",
      "machine          : arm64\n",
      "processor        : arm\n",
      "byteorder        : little\n",
      "LC_ALL           : None\n",
      "LANG             : None\n",
      "LOCALE           : None.UTF-8\n",
      "\n",
      "pandas           : 1.5.3\n",
      "numpy            : 1.23.5\n",
      "pytz             : 2022.7\n",
      "dateutil         : 2.8.2\n",
      "setuptools       : 65.6.3\n",
      "pip              : 23.1.2\n",
      "Cython           : None\n",
      "pytest           : 7.1.2\n",
      "hypothesis       : None\n",
      "sphinx           : 5.0.2\n",
      "blosc            : None\n",
      "feather          : None\n",
      "xlsxwriter       : None\n",
      "lxml.etree       : 4.9.1\n",
      "html5lib         : None\n",
      "pymysql          : None\n",
      "psycopg2         : None\n",
      "jinja2           : 3.1.2\n",
      "IPython          : 8.10.0\n",
      "pandas_datareader: None\n",
      "bs4              : 4.11.1\n",
      "bottleneck       : 1.3.5\n",
      "brotli           : \n",
      "fastparquet      : None\n",
      "fsspec           : 2022.11.0\n",
      "gcsfs            : None\n",
      "matplotlib       : 3.7.0\n",
      "numba            : 0.56.4\n",
      "numexpr          : 2.8.4\n",
      "odfpy            : None\n",
      "openpyxl         : 3.0.10\n",
      "pandas_gbq       : None\n",
      "pyarrow          : None\n",
      "pyreadstat       : None\n",
      "pyxlsb           : None\n",
      "s3fs             : None\n",
      "scipy            : 1.10.0\n",
      "snappy           : \n",
      "sqlalchemy       : 1.4.39\n",
      "tables           : 3.7.0\n",
      "tabulate         : 0.8.10\n",
      "xarray           : 2022.11.0\n",
      "xlrd             : None\n",
      "xlwt             : None\n",
      "zstandard        : 0.19.0\n",
      "tzdata           : None\n",
      "None\n"
     ]
    }
   ],
   "source": [
    "print(\"pandas version:\", pd.__version__)\n",
    "print(\"pandas configuration:\")\n",
    "print(pd.show_versions())"
   ]
  },
  {
   "cell_type": "markdown",
   "metadata": {},
   "source": [
    "Скільки рядків і стовпців в наборі даних:"
   ]
  },
  {
   "cell_type": "code",
   "execution_count": 15,
   "metadata": {},
   "outputs": [
    {
     "data": {
      "text/plain": [
       "(10000, 14)"
      ]
     },
     "execution_count": 15,
     "metadata": {},
     "output_type": "execute_result"
    }
   ],
   "source": [
    "df.shape"
   ]
  },
  {
   "cell_type": "markdown",
   "metadata": {},
   "source": [
    "Перевірити, чи в наборі даних містяться порожні значення:"
   ]
  },
  {
   "cell_type": "code",
   "execution_count": 17,
   "metadata": {},
   "outputs": [
    {
     "name": "stdout",
     "output_type": "stream",
     "text": [
      "<class 'pandas.core.frame.DataFrame'>\n",
      "RangeIndex: 10000 entries, 0 to 9999\n",
      "Data columns (total 14 columns):\n",
      " #   Column            Non-Null Count  Dtype  \n",
      "---  ------            --------------  -----  \n",
      " 0   Address           10000 non-null  object \n",
      " 1   Lot               10000 non-null  object \n",
      " 2   AM or PM          10000 non-null  object \n",
      " 3   Browser Info      10000 non-null  object \n",
      " 4   Company           10000 non-null  object \n",
      " 5   Credit Card       10000 non-null  int64  \n",
      " 6   CC Exp Date       10000 non-null  object \n",
      " 7   CC Security Code  10000 non-null  int64  \n",
      " 8   CC Provider       10000 non-null  object \n",
      " 9   Email             10000 non-null  object \n",
      " 10  Job               10000 non-null  object \n",
      " 11  IP Address        10000 non-null  object \n",
      " 12  Language          10000 non-null  object \n",
      " 13  Purchase Price    10000 non-null  float64\n",
      "dtypes: float64(1), int64(2), object(11)\n",
      "memory usage: 1.1+ MB\n"
     ]
    }
   ],
   "source": [
    "df.info()"
   ]
  },
  {
   "cell_type": "markdown",
   "metadata": {},
   "source": [
    "Яка середня ціна закупки (Purchase Price):"
   ]
  },
  {
   "cell_type": "code",
   "execution_count": 21,
   "metadata": {},
   "outputs": [
    {
     "name": "stdout",
     "output_type": "stream",
     "text": [
      "Середня ціна закупки: 50.347302\n"
     ]
    }
   ],
   "source": [
    "mean_purchase_price = df[\"Purchase Price\"].mean()\n",
    "\n",
    "print(\"Середня ціна закупки:\", mean_purchase_price)"
   ]
  },
  {
   "cell_type": "markdown",
   "metadata": {},
   "source": [
    "Скільки людей користуються англійською мовою \"en\" на веб-сайті:"
   ]
  },
  {
   "cell_type": "code",
   "execution_count": 63,
   "metadata": {},
   "outputs": [
    {
     "name": "stdout",
     "output_type": "stream",
     "text": [
      "Кількість людей користуються англійською мовою: 1098\n"
     ]
    }
   ],
   "source": [
    "count_of_people = (df[\"Language\"] == 'en').sum()\n",
    "\n",
    "print(\"Кількість людей користуються англійською мовою:\" , count_of_people)\n",
    "\n",
    "\n"
   ]
  },
  {
   "cell_type": "markdown",
   "metadata": {},
   "source": [
    "Скільки людей має посаду «Lawyer»?"
   ]
  },
  {
   "cell_type": "code",
   "execution_count": 60,
   "metadata": {},
   "outputs": [
    {
     "name": "stdout",
     "output_type": "stream",
     "text": [
      "Скільки людей має посаду «Lawyer»:  30\n"
     ]
    }
   ],
   "source": [
    "count_people_job = (df['Job'] == 'Lawyer').sum()\n",
    "\n",
    "print('Скільки людей має посаду «Lawyer»: ', count_people_job)\n"
   ]
  },
  {
   "cell_type": "markdown",
   "metadata": {},
   "source": [
    "Скільки людей зробило покупку вранці та скільки людей зробило покупку після обіду?"
   ]
  },
  {
   "cell_type": "code",
   "execution_count": 83,
   "metadata": {},
   "outputs": [
    {
     "name": "stdout",
     "output_type": "stream",
     "text": [
      "Скільки людей зробило покупку вранці:  4932\n",
      "Скільки людей зробило покупку після обідy:  5068\n"
     ]
    }
   ],
   "source": [
    "\n",
    "am = (df['AM or PM'] == 'AM').sum()\n",
    "pm = (df['AM or PM'] == 'PM').sum()\n",
    "print('Скільки людей зробило покупку вранці: ', am)\n",
    "print('Скільки людей зробило покупку після обідy: ', pm)"
   ]
  },
  {
   "cell_type": "markdown",
   "metadata": {},
   "source": [
    "Які 5 найпоширеніших назв вакансій?"
   ]
  },
  {
   "cell_type": "code",
   "execution_count": 76,
   "metadata": {},
   "outputs": [
    {
     "name": "stdout",
     "output_type": "stream",
     "text": [
      "5 найпоширеніших назв вакансійй:\n",
      "\n",
      "Interior and spatial designer    31\n",
      "Lawyer                           30\n",
      "Social researcher                28\n",
      "Purchasing manager               27\n",
      "Designer, jewellery              27\n",
      "Name: Job, dtype: int64\n"
     ]
    }
   ],
   "source": [
    "top_5_jobs = df['Job'].value_counts().head(5)\n",
    "\n",
    "print(\"5 найпоширеніших назв вакансійй:\")\n",
    "print()\n",
    "print(top_5_jobs)\n"
   ]
  },
  {
   "cell_type": "markdown",
   "metadata": {},
   "source": [
    "Хтось здійснив покупку, яка надійшла від Lot: \"90 Wt\", та якою була ціна придбання для цієї транзакції?"
   ]
  },
  {
   "cell_type": "code",
   "execution_count": 99,
   "metadata": {},
   "outputs": [
    {
     "name": "stdout",
     "output_type": "stream",
     "text": [
      "Транзакция с лотом '90 Wt' не найдена.\n"
     ]
    }
   ],
   "source": [
    "transaction = df[df['Lot'] == '90 Wt']\n",
    "\n",
    "\n",
    "if not transaction.empty:\n",
    "    purchase_price = transaction['Purchase Price'].values[0]\n",
    "    print(\"Цена приобретения для транзакции с лотом '90 Wt':\", purchase_price)\n",
    "else:\n",
    "    print(\"Транзакция с лотом '90 Wt' не найдена.\")\n",
    "    \n"
   ]
  },
  {
   "cell_type": "markdown",
   "metadata": {},
   "source": [
    "Яка електронна адреса особи з таким номером кредитної картки: 4926535242672853 ?"
   ]
  },
  {
   "cell_type": "code",
   "execution_count": 103,
   "metadata": {},
   "outputs": [
    {
     "name": "stdout",
     "output_type": "stream",
     "text": [
      "Email кліента :  1234    bondellen@williams-garza.com\n",
      "Name: Email, dtype: object\n"
     ]
    }
   ],
   "source": [
    "credit_card_number = 4926535242672853\n",
    "\n",
    "filtered_df = df[df['Credit Card'] == credit_card_number]['Email']\n",
    "\n",
    "print('Email кліента : ', filtered_df)"
   ]
  },
  {
   "cell_type": "markdown",
   "metadata": {},
   "source": [
    "Скільки людей використовує American Express  і здійснили покупку на суму понад 100 доларів?"
   ]
  },
  {
   "cell_type": "code",
   "execution_count": 135,
   "metadata": {},
   "outputs": [
    {
     "name": "stdout",
     "output_type": "stream",
     "text": [
      "Количество людей, использующих American Express и совершивших покупку на сумму более 100 долларов: 0\n"
     ]
    }
   ],
   "source": [
    "count = len(df[(df['CC Exp Date']  'American Express') & (df['Purchase Price'] > 100)])\n",
    "\n",
    "print(\"Количество людей, использующих American Express и совершивших покупку на сумму более 100 долларов:\", count)\n",
    "\n",
    "\n"
   ]
  },
  {
   "cell_type": "markdown",
   "metadata": {},
   "source": [
    "Скільки людей мають кредитну картку, термін дії якої закінчується в 2025 році?"
   ]
  },
  {
   "cell_type": "code",
   "execution_count": 138,
   "metadata": {},
   "outputs": [
    {
     "name": "stdout",
     "output_type": "stream",
     "text": [
      "Кiлькість людей мають кредитну картку, термін дії якої закінчується в 2025 році:  1033\n"
     ]
    }
   ],
   "source": [
    "count = len(df[df['CC Exp Date'].str.endswith('25')])\n",
    "print('Кiлькість людей мають кредитну картку, термін дії якої закінчується в 2025 році: ', count)"
   ]
  },
  {
   "cell_type": "markdown",
   "metadata": {},
   "source": [
    "Які найкращі 5 найпопулярніших постачальників / хостів електронної пошти (наприклад, gmail.com, yahoo.com тощо ...)."
   ]
  },
  {
   "cell_type": "code",
   "execution_count": 142,
   "metadata": {},
   "outputs": [
    {
     "name": "stdout",
     "output_type": "stream",
     "text": [
      "5 найпопулярніших постачальників :\n",
      "\n",
      "hotmail.com     1638\n",
      "yahoo.com       1616\n",
      "gmail.com       1605\n",
      "smith.com         42\n",
      "williams.com      37\n",
      "Name: 1, dtype: int64\n"
     ]
    }
   ],
   "source": [
    "top_5_providers = df['Email'].str.split('@', expand=True)[1].value_counts().head(5)\n",
    "\n",
    "print(\"5 найпопулярніших постачальників :\")\n",
    "print()\n",
    "print(top_5_providers)\n"
   ]
  },
  {
   "cell_type": "markdown",
   "metadata": {},
   "source": [
    "Виведіть зведену таблицю по браузерах(Browser Info), посаді(Job), та кількості транзакцій :"
   ]
  },
  {
   "cell_type": "code",
   "execution_count": 149,
   "metadata": {},
   "outputs": [
    {
     "name": "stdout",
     "output_type": "stream",
     "text": [
      "Зведена таблиця по браузерах, посадах та кількості транзакцій:\n",
      "Job                                                 Academic librarian  \\\n",
      "Browser Info                                                             \n",
      "Mozilla/5.0 (Macintosh; Intel Mac OS X 10_5_0 r...                   0   \n",
      "Mozilla/5.0 (Macintosh; Intel Mac OS X 10_5_0 r...                   0   \n",
      "Mozilla/5.0 (Macintosh; Intel Mac OS X 10_5_0 r...                   0   \n",
      "Mozilla/5.0 (Macintosh; Intel Mac OS X 10_5_0 r...                   0   \n",
      "Mozilla/5.0 (Macintosh; Intel Mac OS X 10_5_0) ...                   0   \n",
      "...                                                                ...   \n",
      "Opera/9.99.(X11; Linux i686; sl-SI) Presto/2.9....                   0   \n",
      "Opera/9.99.(X11; Linux x86_64; en-US) Presto/2....                   0   \n",
      "Opera/9.99.(X11; Linux x86_64; en-US) Presto/2....                   0   \n",
      "Opera/9.99.(X11; Linux x86_64; it-IT) Presto/2....                   0   \n",
      "Opera/9.99.(X11; Linux x86_64; it-IT) Presto/2....                   0   \n",
      "\n",
      "Job                                                 Accommodation manager  \\\n",
      "Browser Info                                                                \n",
      "Mozilla/5.0 (Macintosh; Intel Mac OS X 10_5_0 r...                      0   \n",
      "Mozilla/5.0 (Macintosh; Intel Mac OS X 10_5_0 r...                      0   \n",
      "Mozilla/5.0 (Macintosh; Intel Mac OS X 10_5_0 r...                      0   \n",
      "Mozilla/5.0 (Macintosh; Intel Mac OS X 10_5_0 r...                      0   \n",
      "Mozilla/5.0 (Macintosh; Intel Mac OS X 10_5_0) ...                      0   \n",
      "...                                                                   ...   \n",
      "Opera/9.99.(X11; Linux i686; sl-SI) Presto/2.9....                      0   \n",
      "Opera/9.99.(X11; Linux x86_64; en-US) Presto/2....                      0   \n",
      "Opera/9.99.(X11; Linux x86_64; en-US) Presto/2....                      0   \n",
      "Opera/9.99.(X11; Linux x86_64; it-IT) Presto/2....                      0   \n",
      "Opera/9.99.(X11; Linux x86_64; it-IT) Presto/2....                      0   \n",
      "\n",
      "Job                                                 Accountant, chartered  \\\n",
      "Browser Info                                                                \n",
      "Mozilla/5.0 (Macintosh; Intel Mac OS X 10_5_0 r...                      0   \n",
      "Mozilla/5.0 (Macintosh; Intel Mac OS X 10_5_0 r...                      0   \n",
      "Mozilla/5.0 (Macintosh; Intel Mac OS X 10_5_0 r...                      0   \n",
      "Mozilla/5.0 (Macintosh; Intel Mac OS X 10_5_0 r...                      0   \n",
      "Mozilla/5.0 (Macintosh; Intel Mac OS X 10_5_0) ...                      0   \n",
      "...                                                                   ...   \n",
      "Opera/9.99.(X11; Linux i686; sl-SI) Presto/2.9....                      0   \n",
      "Opera/9.99.(X11; Linux x86_64; en-US) Presto/2....                      0   \n",
      "Opera/9.99.(X11; Linux x86_64; en-US) Presto/2....                      0   \n",
      "Opera/9.99.(X11; Linux x86_64; it-IT) Presto/2....                      0   \n",
      "Opera/9.99.(X11; Linux x86_64; it-IT) Presto/2....                      0   \n",
      "\n",
      "Job                                                 Accountant, chartered certified  \\\n",
      "Browser Info                                                                          \n",
      "Mozilla/5.0 (Macintosh; Intel Mac OS X 10_5_0 r...                                0   \n",
      "Mozilla/5.0 (Macintosh; Intel Mac OS X 10_5_0 r...                                0   \n",
      "Mozilla/5.0 (Macintosh; Intel Mac OS X 10_5_0 r...                                0   \n",
      "Mozilla/5.0 (Macintosh; Intel Mac OS X 10_5_0 r...                                0   \n",
      "Mozilla/5.0 (Macintosh; Intel Mac OS X 10_5_0) ...                                0   \n",
      "...                                                                             ...   \n",
      "Opera/9.99.(X11; Linux i686; sl-SI) Presto/2.9....                                0   \n",
      "Opera/9.99.(X11; Linux x86_64; en-US) Presto/2....                                0   \n",
      "Opera/9.99.(X11; Linux x86_64; en-US) Presto/2....                                0   \n",
      "Opera/9.99.(X11; Linux x86_64; it-IT) Presto/2....                                0   \n",
      "Opera/9.99.(X11; Linux x86_64; it-IT) Presto/2....                                0   \n",
      "\n",
      "Job                                                 Accountant, chartered management  \\\n",
      "Browser Info                                                                           \n",
      "Mozilla/5.0 (Macintosh; Intel Mac OS X 10_5_0 r...                                 0   \n",
      "Mozilla/5.0 (Macintosh; Intel Mac OS X 10_5_0 r...                                 0   \n",
      "Mozilla/5.0 (Macintosh; Intel Mac OS X 10_5_0 r...                                 0   \n",
      "Mozilla/5.0 (Macintosh; Intel Mac OS X 10_5_0 r...                                 0   \n",
      "Mozilla/5.0 (Macintosh; Intel Mac OS X 10_5_0) ...                                 0   \n",
      "...                                                                              ...   \n",
      "Opera/9.99.(X11; Linux i686; sl-SI) Presto/2.9....                                 0   \n",
      "Opera/9.99.(X11; Linux x86_64; en-US) Presto/2....                                 0   \n",
      "Opera/9.99.(X11; Linux x86_64; en-US) Presto/2....                                 0   \n",
      "Opera/9.99.(X11; Linux x86_64; it-IT) Presto/2....                                 0   \n",
      "Opera/9.99.(X11; Linux x86_64; it-IT) Presto/2....                                 0   \n",
      "\n",
      "Job                                                 Accountant, chartered public finance  \\\n",
      "Browser Info                                                                               \n",
      "Mozilla/5.0 (Macintosh; Intel Mac OS X 10_5_0 r...                                     0   \n",
      "Mozilla/5.0 (Macintosh; Intel Mac OS X 10_5_0 r...                                     0   \n",
      "Mozilla/5.0 (Macintosh; Intel Mac OS X 10_5_0 r...                                     0   \n",
      "Mozilla/5.0 (Macintosh; Intel Mac OS X 10_5_0 r...                                     0   \n",
      "Mozilla/5.0 (Macintosh; Intel Mac OS X 10_5_0) ...                                     0   \n",
      "...                                                                                  ...   \n",
      "Opera/9.99.(X11; Linux i686; sl-SI) Presto/2.9....                                     0   \n",
      "Opera/9.99.(X11; Linux x86_64; en-US) Presto/2....                                     0   \n",
      "Opera/9.99.(X11; Linux x86_64; en-US) Presto/2....                                     0   \n",
      "Opera/9.99.(X11; Linux x86_64; it-IT) Presto/2....                                     0   \n",
      "Opera/9.99.(X11; Linux x86_64; it-IT) Presto/2....                                     0   \n",
      "\n",
      "Job                                                 Accounting technician  \\\n",
      "Browser Info                                                                \n",
      "Mozilla/5.0 (Macintosh; Intel Mac OS X 10_5_0 r...                      0   \n",
      "Mozilla/5.0 (Macintosh; Intel Mac OS X 10_5_0 r...                      0   \n",
      "Mozilla/5.0 (Macintosh; Intel Mac OS X 10_5_0 r...                      0   \n",
      "Mozilla/5.0 (Macintosh; Intel Mac OS X 10_5_0 r...                      0   \n",
      "Mozilla/5.0 (Macintosh; Intel Mac OS X 10_5_0) ...                      0   \n",
      "...                                                                   ...   \n",
      "Opera/9.99.(X11; Linux i686; sl-SI) Presto/2.9....                      0   \n",
      "Opera/9.99.(X11; Linux x86_64; en-US) Presto/2....                      0   \n",
      "Opera/9.99.(X11; Linux x86_64; en-US) Presto/2....                      0   \n",
      "Opera/9.99.(X11; Linux x86_64; it-IT) Presto/2....                      0   \n",
      "Opera/9.99.(X11; Linux x86_64; it-IT) Presto/2....                      0   \n",
      "\n",
      "Job                                                 Actor  Actuary  \\\n",
      "Browser Info                                                         \n",
      "Mozilla/5.0 (Macintosh; Intel Mac OS X 10_5_0 r...      0        0   \n",
      "Mozilla/5.0 (Macintosh; Intel Mac OS X 10_5_0 r...      0        0   \n",
      "Mozilla/5.0 (Macintosh; Intel Mac OS X 10_5_0 r...      0        0   \n",
      "Mozilla/5.0 (Macintosh; Intel Mac OS X 10_5_0 r...      0        0   \n",
      "Mozilla/5.0 (Macintosh; Intel Mac OS X 10_5_0) ...      0        0   \n",
      "...                                                   ...      ...   \n",
      "Opera/9.99.(X11; Linux i686; sl-SI) Presto/2.9....      0        0   \n",
      "Opera/9.99.(X11; Linux x86_64; en-US) Presto/2....      0        0   \n",
      "Opera/9.99.(X11; Linux x86_64; en-US) Presto/2....      0        0   \n",
      "Opera/9.99.(X11; Linux x86_64; it-IT) Presto/2....      0        0   \n",
      "Opera/9.99.(X11; Linux x86_64; it-IT) Presto/2....      0        0   \n",
      "\n",
      "Job                                                 Acupuncturist  ...  \\\n",
      "Browser Info                                                       ...   \n",
      "Mozilla/5.0 (Macintosh; Intel Mac OS X 10_5_0 r...              0  ...   \n",
      "Mozilla/5.0 (Macintosh; Intel Mac OS X 10_5_0 r...              0  ...   \n",
      "Mozilla/5.0 (Macintosh; Intel Mac OS X 10_5_0 r...              0  ...   \n",
      "Mozilla/5.0 (Macintosh; Intel Mac OS X 10_5_0 r...              0  ...   \n",
      "Mozilla/5.0 (Macintosh; Intel Mac OS X 10_5_0) ...              0  ...   \n",
      "...                                                           ...  ...   \n",
      "Opera/9.99.(X11; Linux i686; sl-SI) Presto/2.9....              0  ...   \n",
      "Opera/9.99.(X11; Linux x86_64; en-US) Presto/2....              0  ...   \n",
      "Opera/9.99.(X11; Linux x86_64; en-US) Presto/2....              0  ...   \n",
      "Opera/9.99.(X11; Linux x86_64; it-IT) Presto/2....              0  ...   \n",
      "Opera/9.99.(X11; Linux x86_64; it-IT) Presto/2....              0  ...   \n",
      "\n",
      "Job                                                 Volunteer coordinator  \\\n",
      "Browser Info                                                                \n",
      "Mozilla/5.0 (Macintosh; Intel Mac OS X 10_5_0 r...                      0   \n",
      "Mozilla/5.0 (Macintosh; Intel Mac OS X 10_5_0 r...                      0   \n",
      "Mozilla/5.0 (Macintosh; Intel Mac OS X 10_5_0 r...                      0   \n",
      "Mozilla/5.0 (Macintosh; Intel Mac OS X 10_5_0 r...                      0   \n",
      "Mozilla/5.0 (Macintosh; Intel Mac OS X 10_5_0) ...                      0   \n",
      "...                                                                   ...   \n",
      "Opera/9.99.(X11; Linux i686; sl-SI) Presto/2.9....                      0   \n",
      "Opera/9.99.(X11; Linux x86_64; en-US) Presto/2....                      0   \n",
      "Opera/9.99.(X11; Linux x86_64; en-US) Presto/2....                      0   \n",
      "Opera/9.99.(X11; Linux x86_64; it-IT) Presto/2....                      0   \n",
      "Opera/9.99.(X11; Linux x86_64; it-IT) Presto/2....                      0   \n",
      "\n",
      "Job                                                 Warden/ranger  \\\n",
      "Browser Info                                                        \n",
      "Mozilla/5.0 (Macintosh; Intel Mac OS X 10_5_0 r...              0   \n",
      "Mozilla/5.0 (Macintosh; Intel Mac OS X 10_5_0 r...              0   \n",
      "Mozilla/5.0 (Macintosh; Intel Mac OS X 10_5_0 r...              0   \n",
      "Mozilla/5.0 (Macintosh; Intel Mac OS X 10_5_0 r...              0   \n",
      "Mozilla/5.0 (Macintosh; Intel Mac OS X 10_5_0) ...              0   \n",
      "...                                                           ...   \n",
      "Opera/9.99.(X11; Linux i686; sl-SI) Presto/2.9....              0   \n",
      "Opera/9.99.(X11; Linux x86_64; en-US) Presto/2....              0   \n",
      "Opera/9.99.(X11; Linux x86_64; en-US) Presto/2....              0   \n",
      "Opera/9.99.(X11; Linux x86_64; it-IT) Presto/2....              0   \n",
      "Opera/9.99.(X11; Linux x86_64; it-IT) Presto/2....              0   \n",
      "\n",
      "Job                                                 Warehouse manager  \\\n",
      "Browser Info                                                            \n",
      "Mozilla/5.0 (Macintosh; Intel Mac OS X 10_5_0 r...                  0   \n",
      "Mozilla/5.0 (Macintosh; Intel Mac OS X 10_5_0 r...                  0   \n",
      "Mozilla/5.0 (Macintosh; Intel Mac OS X 10_5_0 r...                  0   \n",
      "Mozilla/5.0 (Macintosh; Intel Mac OS X 10_5_0 r...                  0   \n",
      "Mozilla/5.0 (Macintosh; Intel Mac OS X 10_5_0) ...                  0   \n",
      "...                                                               ...   \n",
      "Opera/9.99.(X11; Linux i686; sl-SI) Presto/2.9....                  0   \n",
      "Opera/9.99.(X11; Linux x86_64; en-US) Presto/2....                  0   \n",
      "Opera/9.99.(X11; Linux x86_64; en-US) Presto/2....                  0   \n",
      "Opera/9.99.(X11; Linux x86_64; it-IT) Presto/2....                  0   \n",
      "Opera/9.99.(X11; Linux x86_64; it-IT) Presto/2....                  0   \n",
      "\n",
      "Job                                                 Waste management officer  \\\n",
      "Browser Info                                                                   \n",
      "Mozilla/5.0 (Macintosh; Intel Mac OS X 10_5_0 r...                         0   \n",
      "Mozilla/5.0 (Macintosh; Intel Mac OS X 10_5_0 r...                         0   \n",
      "Mozilla/5.0 (Macintosh; Intel Mac OS X 10_5_0 r...                         0   \n",
      "Mozilla/5.0 (Macintosh; Intel Mac OS X 10_5_0 r...                         0   \n",
      "Mozilla/5.0 (Macintosh; Intel Mac OS X 10_5_0) ...                         0   \n",
      "...                                                                      ...   \n",
      "Opera/9.99.(X11; Linux i686; sl-SI) Presto/2.9....                         0   \n",
      "Opera/9.99.(X11; Linux x86_64; en-US) Presto/2....                         0   \n",
      "Opera/9.99.(X11; Linux x86_64; en-US) Presto/2....                         0   \n",
      "Opera/9.99.(X11; Linux x86_64; it-IT) Presto/2....                         0   \n",
      "Opera/9.99.(X11; Linux x86_64; it-IT) Presto/2....                         0   \n",
      "\n",
      "Job                                                 Water engineer  \\\n",
      "Browser Info                                                         \n",
      "Mozilla/5.0 (Macintosh; Intel Mac OS X 10_5_0 r...               0   \n",
      "Mozilla/5.0 (Macintosh; Intel Mac OS X 10_5_0 r...               0   \n",
      "Mozilla/5.0 (Macintosh; Intel Mac OS X 10_5_0 r...               0   \n",
      "Mozilla/5.0 (Macintosh; Intel Mac OS X 10_5_0 r...               0   \n",
      "Mozilla/5.0 (Macintosh; Intel Mac OS X 10_5_0) ...               0   \n",
      "...                                                            ...   \n",
      "Opera/9.99.(X11; Linux i686; sl-SI) Presto/2.9....               0   \n",
      "Opera/9.99.(X11; Linux x86_64; en-US) Presto/2....               0   \n",
      "Opera/9.99.(X11; Linux x86_64; en-US) Presto/2....               0   \n",
      "Opera/9.99.(X11; Linux x86_64; it-IT) Presto/2....               0   \n",
      "Opera/9.99.(X11; Linux x86_64; it-IT) Presto/2....               0   \n",
      "\n",
      "Job                                                 Water quality scientist  \\\n",
      "Browser Info                                                                  \n",
      "Mozilla/5.0 (Macintosh; Intel Mac OS X 10_5_0 r...                        0   \n",
      "Mozilla/5.0 (Macintosh; Intel Mac OS X 10_5_0 r...                        0   \n",
      "Mozilla/5.0 (Macintosh; Intel Mac OS X 10_5_0 r...                        0   \n",
      "Mozilla/5.0 (Macintosh; Intel Mac OS X 10_5_0 r...                        0   \n",
      "Mozilla/5.0 (Macintosh; Intel Mac OS X 10_5_0) ...                        0   \n",
      "...                                                                     ...   \n",
      "Opera/9.99.(X11; Linux i686; sl-SI) Presto/2.9....                        0   \n",
      "Opera/9.99.(X11; Linux x86_64; en-US) Presto/2....                        0   \n",
      "Opera/9.99.(X11; Linux x86_64; en-US) Presto/2....                        0   \n",
      "Opera/9.99.(X11; Linux x86_64; it-IT) Presto/2....                        0   \n",
      "Opera/9.99.(X11; Linux x86_64; it-IT) Presto/2....                        0   \n",
      "\n",
      "Job                                                 Web designer  \\\n",
      "Browser Info                                                       \n",
      "Mozilla/5.0 (Macintosh; Intel Mac OS X 10_5_0 r...             0   \n",
      "Mozilla/5.0 (Macintosh; Intel Mac OS X 10_5_0 r...             0   \n",
      "Mozilla/5.0 (Macintosh; Intel Mac OS X 10_5_0 r...             0   \n",
      "Mozilla/5.0 (Macintosh; Intel Mac OS X 10_5_0 r...             0   \n",
      "Mozilla/5.0 (Macintosh; Intel Mac OS X 10_5_0) ...             0   \n",
      "...                                                          ...   \n",
      "Opera/9.99.(X11; Linux i686; sl-SI) Presto/2.9....             0   \n",
      "Opera/9.99.(X11; Linux x86_64; en-US) Presto/2....             0   \n",
      "Opera/9.99.(X11; Linux x86_64; en-US) Presto/2....             0   \n",
      "Opera/9.99.(X11; Linux x86_64; it-IT) Presto/2....             0   \n",
      "Opera/9.99.(X11; Linux x86_64; it-IT) Presto/2....             0   \n",
      "\n",
      "Job                                                 Wellsite geologist  \\\n",
      "Browser Info                                                             \n",
      "Mozilla/5.0 (Macintosh; Intel Mac OS X 10_5_0 r...                   0   \n",
      "Mozilla/5.0 (Macintosh; Intel Mac OS X 10_5_0 r...                   0   \n",
      "Mozilla/5.0 (Macintosh; Intel Mac OS X 10_5_0 r...                   0   \n",
      "Mozilla/5.0 (Macintosh; Intel Mac OS X 10_5_0 r...                   0   \n",
      "Mozilla/5.0 (Macintosh; Intel Mac OS X 10_5_0) ...                   0   \n",
      "...                                                                ...   \n",
      "Opera/9.99.(X11; Linux i686; sl-SI) Presto/2.9....                   0   \n",
      "Opera/9.99.(X11; Linux x86_64; en-US) Presto/2....                   0   \n",
      "Opera/9.99.(X11; Linux x86_64; en-US) Presto/2....                   0   \n",
      "Opera/9.99.(X11; Linux x86_64; it-IT) Presto/2....                   0   \n",
      "Opera/9.99.(X11; Linux x86_64; it-IT) Presto/2....                   0   \n",
      "\n",
      "Job                                                 Writer  Youth worker  \n",
      "Browser Info                                                              \n",
      "Mozilla/5.0 (Macintosh; Intel Mac OS X 10_5_0 r...       0             0  \n",
      "Mozilla/5.0 (Macintosh; Intel Mac OS X 10_5_0 r...       0             0  \n",
      "Mozilla/5.0 (Macintosh; Intel Mac OS X 10_5_0 r...       0             0  \n",
      "Mozilla/5.0 (Macintosh; Intel Mac OS X 10_5_0 r...       0             0  \n",
      "Mozilla/5.0 (Macintosh; Intel Mac OS X 10_5_0) ...       0             0  \n",
      "...                                                    ...           ...  \n",
      "Opera/9.99.(X11; Linux i686; sl-SI) Presto/2.9....       0             0  \n",
      "Opera/9.99.(X11; Linux x86_64; en-US) Presto/2....       0             0  \n",
      "Opera/9.99.(X11; Linux x86_64; en-US) Presto/2....       0             0  \n",
      "Opera/9.99.(X11; Linux x86_64; it-IT) Presto/2....       0             0  \n",
      "Opera/9.99.(X11; Linux x86_64; it-IT) Presto/2....       0             0  \n",
      "\n",
      "[8287 rows x 623 columns]\n"
     ]
    }
   ],
   "source": [
    "pivot_table = df.pivot_table(index='Browser Info', columns='Job', values='Purchase Price', aggfunc='count', fill_value=0)\n",
    "\n",
    "print(\"Зведена таблиця по браузерах, посадах та кількості транзакцій:\")\n",
    "print(pivot_table)\n"
   ]
  },
  {
   "cell_type": "markdown",
   "metadata": {},
   "source": [
    "Створіть нову колонку \"Actual price\", яка утворюється із \"Purchase Price\" та націнки за принципом:\n",
    "- якщо \"Purchase Price\" > 50, націнка 20%\n",
    "- якщо \"Purchase Price\" > 100, націнка 10%\n",
    "- в інших випадках націнка 30%\n",
    "   "
   ]
  },
  {
   "cell_type": "code",
   "execution_count": 151,
   "metadata": {},
   "outputs": [
    {
     "name": "stdout",
     "output_type": "stream",
     "text": [
      "      Purchase Price  Actual price\n",
      "0              98.14       117.768\n",
      "1              70.73        84.876\n",
      "2               0.95         1.235\n",
      "3              78.04        93.648\n",
      "4              77.82        93.384\n",
      "...              ...           ...\n",
      "9995           82.21        98.652\n",
      "9996           25.63        33.319\n",
      "9997           83.98       100.776\n",
      "9998           38.84        50.492\n",
      "9999           67.59        81.108\n",
      "\n",
      "[10000 rows x 2 columns]\n"
     ]
    },
    {
     "data": {
      "text/html": [
       "<div>\n",
       "<style scoped>\n",
       "    .dataframe tbody tr th:only-of-type {\n",
       "        vertical-align: middle;\n",
       "    }\n",
       "\n",
       "    .dataframe tbody tr th {\n",
       "        vertical-align: top;\n",
       "    }\n",
       "\n",
       "    .dataframe thead th {\n",
       "        text-align: right;\n",
       "    }\n",
       "</style>\n",
       "<table border=\"1\" class=\"dataframe\">\n",
       "  <thead>\n",
       "    <tr style=\"text-align: right;\">\n",
       "      <th></th>\n",
       "      <th>Address</th>\n",
       "      <th>Lot</th>\n",
       "      <th>AM or PM</th>\n",
       "      <th>Browser Info</th>\n",
       "      <th>Company</th>\n",
       "      <th>Credit Card</th>\n",
       "      <th>CC Exp Date</th>\n",
       "      <th>CC Security Code</th>\n",
       "      <th>CC Provider</th>\n",
       "      <th>Email</th>\n",
       "      <th>Job</th>\n",
       "      <th>IP Address</th>\n",
       "      <th>Language</th>\n",
       "      <th>Purchase Price</th>\n",
       "      <th>Actual price</th>\n",
       "    </tr>\n",
       "  </thead>\n",
       "  <tbody>\n",
       "    <tr>\n",
       "      <th>0</th>\n",
       "      <td>16629 Pace Camp Apt. 448\\nAlexisborough, NE 77...</td>\n",
       "      <td>46 in</td>\n",
       "      <td>PM</td>\n",
       "      <td>Opera/9.56.(X11; Linux x86_64; sl-SI) Presto/2...</td>\n",
       "      <td>Martinez-Herman</td>\n",
       "      <td>6011929061123406</td>\n",
       "      <td>02/20</td>\n",
       "      <td>900</td>\n",
       "      <td>JCB 16 digit</td>\n",
       "      <td>pdunlap@yahoo.com</td>\n",
       "      <td>Scientist, product/process development</td>\n",
       "      <td>149.146.147.205</td>\n",
       "      <td>el</td>\n",
       "      <td>98.14</td>\n",
       "      <td>117.768</td>\n",
       "    </tr>\n",
       "    <tr>\n",
       "      <th>1</th>\n",
       "      <td>9374 Jasmine Spurs Suite 508\\nSouth John, TN 8...</td>\n",
       "      <td>28 rn</td>\n",
       "      <td>PM</td>\n",
       "      <td>Opera/8.93.(Windows 98; Win 9x 4.90; en-US) Pr...</td>\n",
       "      <td>Fletcher, Richards and Whitaker</td>\n",
       "      <td>3337758169645356</td>\n",
       "      <td>11/18</td>\n",
       "      <td>561</td>\n",
       "      <td>Mastercard</td>\n",
       "      <td>anthony41@reed.com</td>\n",
       "      <td>Drilling engineer</td>\n",
       "      <td>15.160.41.51</td>\n",
       "      <td>fr</td>\n",
       "      <td>70.73</td>\n",
       "      <td>84.876</td>\n",
       "    </tr>\n",
       "    <tr>\n",
       "      <th>2</th>\n",
       "      <td>Unit 0065 Box 5052\\nDPO AP 27450</td>\n",
       "      <td>94 vE</td>\n",
       "      <td>PM</td>\n",
       "      <td>Mozilla/5.0 (compatible; MSIE 9.0; Windows NT ...</td>\n",
       "      <td>Simpson, Williams and Pham</td>\n",
       "      <td>675957666125</td>\n",
       "      <td>08/19</td>\n",
       "      <td>699</td>\n",
       "      <td>JCB 16 digit</td>\n",
       "      <td>amymiller@morales-harrison.com</td>\n",
       "      <td>Customer service manager</td>\n",
       "      <td>132.207.160.22</td>\n",
       "      <td>de</td>\n",
       "      <td>0.95</td>\n",
       "      <td>1.235</td>\n",
       "    </tr>\n",
       "    <tr>\n",
       "      <th>3</th>\n",
       "      <td>7780 Julia Fords\\nNew Stacy, WA 45798</td>\n",
       "      <td>36 vm</td>\n",
       "      <td>PM</td>\n",
       "      <td>Mozilla/5.0 (Macintosh; Intel Mac OS X 10_8_0 ...</td>\n",
       "      <td>Williams, Marshall and Buchanan</td>\n",
       "      <td>6011578504430710</td>\n",
       "      <td>02/24</td>\n",
       "      <td>384</td>\n",
       "      <td>Discover</td>\n",
       "      <td>brent16@olson-robinson.info</td>\n",
       "      <td>Drilling engineer</td>\n",
       "      <td>30.250.74.19</td>\n",
       "      <td>es</td>\n",
       "      <td>78.04</td>\n",
       "      <td>93.648</td>\n",
       "    </tr>\n",
       "    <tr>\n",
       "      <th>4</th>\n",
       "      <td>23012 Munoz Drive Suite 337\\nNew Cynthia, TX 5...</td>\n",
       "      <td>20 IE</td>\n",
       "      <td>AM</td>\n",
       "      <td>Opera/9.58.(X11; Linux x86_64; it-IT) Presto/2...</td>\n",
       "      <td>Brown, Watson and Andrews</td>\n",
       "      <td>6011456623207998</td>\n",
       "      <td>10/25</td>\n",
       "      <td>678</td>\n",
       "      <td>Diners Club / Carte Blanche</td>\n",
       "      <td>christopherwright@gmail.com</td>\n",
       "      <td>Fine artist</td>\n",
       "      <td>24.140.33.94</td>\n",
       "      <td>es</td>\n",
       "      <td>77.82</td>\n",
       "      <td>93.384</td>\n",
       "    </tr>\n",
       "    <tr>\n",
       "      <th>...</th>\n",
       "      <td>...</td>\n",
       "      <td>...</td>\n",
       "      <td>...</td>\n",
       "      <td>...</td>\n",
       "      <td>...</td>\n",
       "      <td>...</td>\n",
       "      <td>...</td>\n",
       "      <td>...</td>\n",
       "      <td>...</td>\n",
       "      <td>...</td>\n",
       "      <td>...</td>\n",
       "      <td>...</td>\n",
       "      <td>...</td>\n",
       "      <td>...</td>\n",
       "      <td>...</td>\n",
       "    </tr>\n",
       "    <tr>\n",
       "      <th>9995</th>\n",
       "      <td>966 Castaneda Locks\\nWest Juliafurt, CO 96415</td>\n",
       "      <td>92 XI</td>\n",
       "      <td>PM</td>\n",
       "      <td>Mozilla/5.0 (Windows NT 5.1) AppleWebKit/5352 ...</td>\n",
       "      <td>Randall-Sloan</td>\n",
       "      <td>342945015358701</td>\n",
       "      <td>03/22</td>\n",
       "      <td>838</td>\n",
       "      <td>JCB 15 digit</td>\n",
       "      <td>iscott@wade-garner.com</td>\n",
       "      <td>Printmaker</td>\n",
       "      <td>29.73.197.114</td>\n",
       "      <td>it</td>\n",
       "      <td>82.21</td>\n",
       "      <td>98.652</td>\n",
       "    </tr>\n",
       "    <tr>\n",
       "      <th>9996</th>\n",
       "      <td>832 Curtis Dam Suite 785\\nNorth Edwardburgh, T...</td>\n",
       "      <td>41 JY</td>\n",
       "      <td>AM</td>\n",
       "      <td>Mozilla/5.0 (compatible; MSIE 9.0; Windows NT ...</td>\n",
       "      <td>Hale, Collins and Wilson</td>\n",
       "      <td>210033169205009</td>\n",
       "      <td>07/25</td>\n",
       "      <td>207</td>\n",
       "      <td>JCB 16 digit</td>\n",
       "      <td>mary85@hotmail.com</td>\n",
       "      <td>Energy engineer</td>\n",
       "      <td>121.133.168.51</td>\n",
       "      <td>pt</td>\n",
       "      <td>25.63</td>\n",
       "      <td>33.319</td>\n",
       "    </tr>\n",
       "    <tr>\n",
       "      <th>9997</th>\n",
       "      <td>Unit 4434 Box 6343\\nDPO AE 28026-0283</td>\n",
       "      <td>74 Zh</td>\n",
       "      <td>AM</td>\n",
       "      <td>Mozilla/5.0 (Macintosh; U; Intel Mac OS X 10_7...</td>\n",
       "      <td>Anderson Ltd</td>\n",
       "      <td>6011539787356311</td>\n",
       "      <td>05/21</td>\n",
       "      <td>1</td>\n",
       "      <td>VISA 16 digit</td>\n",
       "      <td>tyler16@gmail.com</td>\n",
       "      <td>Veterinary surgeon</td>\n",
       "      <td>156.210.0.254</td>\n",
       "      <td>el</td>\n",
       "      <td>83.98</td>\n",
       "      <td>100.776</td>\n",
       "    </tr>\n",
       "    <tr>\n",
       "      <th>9998</th>\n",
       "      <td>0096 English Rest\\nRoystad, IA 12457</td>\n",
       "      <td>74 cL</td>\n",
       "      <td>PM</td>\n",
       "      <td>Mozilla/5.0 (Macintosh; Intel Mac OS X 10_8_8;...</td>\n",
       "      <td>Cook Inc</td>\n",
       "      <td>180003348082930</td>\n",
       "      <td>11/17</td>\n",
       "      <td>987</td>\n",
       "      <td>American Express</td>\n",
       "      <td>elizabethmoore@reid.net</td>\n",
       "      <td>Local government officer</td>\n",
       "      <td>55.78.26.143</td>\n",
       "      <td>es</td>\n",
       "      <td>38.84</td>\n",
       "      <td>50.492</td>\n",
       "    </tr>\n",
       "    <tr>\n",
       "      <th>9999</th>\n",
       "      <td>40674 Barrett Stravenue\\nGrimesville, WI 79682</td>\n",
       "      <td>64 Hr</td>\n",
       "      <td>AM</td>\n",
       "      <td>Mozilla/5.0 (X11; Linux i686; rv:1.9.5.20) Gec...</td>\n",
       "      <td>Greene Inc</td>\n",
       "      <td>4139972901927273</td>\n",
       "      <td>02/19</td>\n",
       "      <td>302</td>\n",
       "      <td>JCB 15 digit</td>\n",
       "      <td>rachelford@vaughn.com</td>\n",
       "      <td>Embryologist, clinical</td>\n",
       "      <td>176.119.198.199</td>\n",
       "      <td>el</td>\n",
       "      <td>67.59</td>\n",
       "      <td>81.108</td>\n",
       "    </tr>\n",
       "  </tbody>\n",
       "</table>\n",
       "<p>10000 rows × 15 columns</p>\n",
       "</div>"
      ],
      "text/plain": [
       "                                                Address    Lot AM or PM  \\\n",
       "0     16629 Pace Camp Apt. 448\\nAlexisborough, NE 77...  46 in       PM   \n",
       "1     9374 Jasmine Spurs Suite 508\\nSouth John, TN 8...  28 rn       PM   \n",
       "2                      Unit 0065 Box 5052\\nDPO AP 27450  94 vE       PM   \n",
       "3                 7780 Julia Fords\\nNew Stacy, WA 45798  36 vm       PM   \n",
       "4     23012 Munoz Drive Suite 337\\nNew Cynthia, TX 5...  20 IE       AM   \n",
       "...                                                 ...    ...      ...   \n",
       "9995      966 Castaneda Locks\\nWest Juliafurt, CO 96415  92 XI       PM   \n",
       "9996  832 Curtis Dam Suite 785\\nNorth Edwardburgh, T...  41 JY       AM   \n",
       "9997              Unit 4434 Box 6343\\nDPO AE 28026-0283  74 Zh       AM   \n",
       "9998               0096 English Rest\\nRoystad, IA 12457  74 cL       PM   \n",
       "9999     40674 Barrett Stravenue\\nGrimesville, WI 79682  64 Hr       AM   \n",
       "\n",
       "                                           Browser Info  \\\n",
       "0     Opera/9.56.(X11; Linux x86_64; sl-SI) Presto/2...   \n",
       "1     Opera/8.93.(Windows 98; Win 9x 4.90; en-US) Pr...   \n",
       "2     Mozilla/5.0 (compatible; MSIE 9.0; Windows NT ...   \n",
       "3     Mozilla/5.0 (Macintosh; Intel Mac OS X 10_8_0 ...   \n",
       "4     Opera/9.58.(X11; Linux x86_64; it-IT) Presto/2...   \n",
       "...                                                 ...   \n",
       "9995  Mozilla/5.0 (Windows NT 5.1) AppleWebKit/5352 ...   \n",
       "9996  Mozilla/5.0 (compatible; MSIE 9.0; Windows NT ...   \n",
       "9997  Mozilla/5.0 (Macintosh; U; Intel Mac OS X 10_7...   \n",
       "9998  Mozilla/5.0 (Macintosh; Intel Mac OS X 10_8_8;...   \n",
       "9999  Mozilla/5.0 (X11; Linux i686; rv:1.9.5.20) Gec...   \n",
       "\n",
       "                              Company       Credit Card CC Exp Date  \\\n",
       "0                     Martinez-Herman  6011929061123406       02/20   \n",
       "1     Fletcher, Richards and Whitaker  3337758169645356       11/18   \n",
       "2          Simpson, Williams and Pham      675957666125       08/19   \n",
       "3     Williams, Marshall and Buchanan  6011578504430710       02/24   \n",
       "4           Brown, Watson and Andrews  6011456623207998       10/25   \n",
       "...                               ...               ...         ...   \n",
       "9995                    Randall-Sloan   342945015358701       03/22   \n",
       "9996         Hale, Collins and Wilson   210033169205009       07/25   \n",
       "9997                     Anderson Ltd  6011539787356311       05/21   \n",
       "9998                         Cook Inc   180003348082930       11/17   \n",
       "9999                       Greene Inc  4139972901927273       02/19   \n",
       "\n",
       "      CC Security Code                  CC Provider  \\\n",
       "0                  900                 JCB 16 digit   \n",
       "1                  561                   Mastercard   \n",
       "2                  699                 JCB 16 digit   \n",
       "3                  384                     Discover   \n",
       "4                  678  Diners Club / Carte Blanche   \n",
       "...                ...                          ...   \n",
       "9995               838                 JCB 15 digit   \n",
       "9996               207                 JCB 16 digit   \n",
       "9997                 1                VISA 16 digit   \n",
       "9998               987             American Express   \n",
       "9999               302                 JCB 15 digit   \n",
       "\n",
       "                               Email                                     Job  \\\n",
       "0                  pdunlap@yahoo.com  Scientist, product/process development   \n",
       "1                 anthony41@reed.com                       Drilling engineer   \n",
       "2     amymiller@morales-harrison.com                Customer service manager   \n",
       "3        brent16@olson-robinson.info                       Drilling engineer   \n",
       "4        christopherwright@gmail.com                             Fine artist   \n",
       "...                              ...                                     ...   \n",
       "9995          iscott@wade-garner.com                              Printmaker   \n",
       "9996              mary85@hotmail.com                         Energy engineer   \n",
       "9997               tyler16@gmail.com                      Veterinary surgeon   \n",
       "9998         elizabethmoore@reid.net                Local government officer   \n",
       "9999           rachelford@vaughn.com                  Embryologist, clinical   \n",
       "\n",
       "           IP Address Language  Purchase Price  Actual price  \n",
       "0     149.146.147.205       el           98.14       117.768  \n",
       "1        15.160.41.51       fr           70.73        84.876  \n",
       "2      132.207.160.22       de            0.95         1.235  \n",
       "3        30.250.74.19       es           78.04        93.648  \n",
       "4        24.140.33.94       es           77.82        93.384  \n",
       "...               ...      ...             ...           ...  \n",
       "9995    29.73.197.114       it           82.21        98.652  \n",
       "9996   121.133.168.51       pt           25.63        33.319  \n",
       "9997    156.210.0.254       el           83.98       100.776  \n",
       "9998     55.78.26.143       es           38.84        50.492  \n",
       "9999  176.119.198.199       el           67.59        81.108  \n",
       "\n",
       "[10000 rows x 15 columns]"
      ]
     },
     "execution_count": 151,
     "metadata": {},
     "output_type": "execute_result"
    }
   ],
   "source": [
    "def calculate_actual_price(row):\n",
    "    purchase_price = row['Purchase Price']\n",
    "    \n",
    "    if purchase_price > 100:\n",
    "        return purchase_price * 1.1  # Націнка 10%\n",
    "    elif purchase_price > 50:\n",
    "        return purchase_price * 1.2  # Націнка 20%\n",
    "    else:\n",
    "        return purchase_price * 1.3  # Націнка 30%\n",
    "\n",
    "df['Actual price'] = df.apply(calculate_actual_price, axis=1)\n",
    "\n",
    "print(df[['Purchase Price', 'Actual price']])\n",
    "df"
   ]
  },
  {
   "cell_type": "markdown",
   "metadata": {},
   "source": [
    "Зробіть рангування набору даних по \"Language\" та \"Actual price\" в порядку спадання ціни.\n",
    "\n",
    "https://pandas.pydata.org/pandas-docs/stable/reference/api/pandas.DataFrame.rank.html"
   ]
  },
  {
   "cell_type": "code",
   "execution_count": 167,
   "metadata": {},
   "outputs": [
    {
     "data": {
      "text/html": [
       "<div>\n",
       "<style scoped>\n",
       "    .dataframe tbody tr th:only-of-type {\n",
       "        vertical-align: middle;\n",
       "    }\n",
       "\n",
       "    .dataframe tbody tr th {\n",
       "        vertical-align: top;\n",
       "    }\n",
       "\n",
       "    .dataframe thead th {\n",
       "        text-align: right;\n",
       "    }\n",
       "</style>\n",
       "<table border=\"1\" class=\"dataframe\">\n",
       "  <thead>\n",
       "    <tr style=\"text-align: right;\">\n",
       "      <th></th>\n",
       "      <th>Language</th>\n",
       "      <th>Actual price</th>\n",
       "      <th>Rank</th>\n",
       "    </tr>\n",
       "  </thead>\n",
       "  <tbody>\n",
       "    <tr>\n",
       "      <th>2092</th>\n",
       "      <td>el</td>\n",
       "      <td>119.988</td>\n",
       "      <td>1</td>\n",
       "    </tr>\n",
       "    <tr>\n",
       "      <th>7807</th>\n",
       "      <td>de</td>\n",
       "      <td>119.988</td>\n",
       "      <td>2</td>\n",
       "    </tr>\n",
       "    <tr>\n",
       "      <th>9856</th>\n",
       "      <td>de</td>\n",
       "      <td>119.964</td>\n",
       "      <td>1</td>\n",
       "    </tr>\n",
       "    <tr>\n",
       "      <th>7604</th>\n",
       "      <td>el</td>\n",
       "      <td>119.940</td>\n",
       "      <td>1</td>\n",
       "    </tr>\n",
       "    <tr>\n",
       "      <th>3844</th>\n",
       "      <td>el</td>\n",
       "      <td>119.916</td>\n",
       "      <td>1</td>\n",
       "    </tr>\n",
       "    <tr>\n",
       "      <th>...</th>\n",
       "      <td>...</td>\n",
       "      <td>...</td>\n",
       "      <td>...</td>\n",
       "    </tr>\n",
       "    <tr>\n",
       "      <th>2783</th>\n",
       "      <td>de</td>\n",
       "      <td>0.026</td>\n",
       "      <td>1</td>\n",
       "    </tr>\n",
       "    <tr>\n",
       "      <th>8656</th>\n",
       "      <td>ru</td>\n",
       "      <td>0.026</td>\n",
       "      <td>2</td>\n",
       "    </tr>\n",
       "    <tr>\n",
       "      <th>6863</th>\n",
       "      <td>es</td>\n",
       "      <td>0.013</td>\n",
       "      <td>1</td>\n",
       "    </tr>\n",
       "    <tr>\n",
       "      <th>2876</th>\n",
       "      <td>it</td>\n",
       "      <td>0.000</td>\n",
       "      <td>1</td>\n",
       "    </tr>\n",
       "    <tr>\n",
       "      <th>5487</th>\n",
       "      <td>zh</td>\n",
       "      <td>0.000</td>\n",
       "      <td>2</td>\n",
       "    </tr>\n",
       "  </tbody>\n",
       "</table>\n",
       "<p>10000 rows × 3 columns</p>\n",
       "</div>"
      ],
      "text/plain": [
       "     Language  Actual price  Rank\n",
       "2092       el       119.988     1\n",
       "7807       de       119.988     2\n",
       "9856       de       119.964     1\n",
       "7604       el       119.940     1\n",
       "3844       el       119.916     1\n",
       "...       ...           ...   ...\n",
       "2783       de         0.026     1\n",
       "8656       ru         0.026     2\n",
       "6863       es         0.013     1\n",
       "2876       it         0.000     1\n",
       "5487       zh         0.000     2\n",
       "\n",
       "[10000 rows x 3 columns]"
      ]
     },
     "execution_count": 167,
     "metadata": {},
     "output_type": "execute_result"
    }
   ],
   "source": [
    "x = df[['Language', 'Actual price']]\n",
    "\n",
    "data_sorted = x.sort_values(by=\"Actual price\", ascending=False)\n",
    "data_sorted[\"Rank\"] = data_sorted.groupby(\"Actual price\").cumcount() + 1\n",
    "data_sorted\n",
    "#print(data_sorted[[\"Language\", \"Actual price\", \"Rank\"]])\n"
   ]
  },
  {
   "cell_type": "markdown",
   "metadata": {},
   "source": [
    "Колонку \"Language\" (категоріальна змінна) \"закодуйте\", тобто утворити індикаторні колоник. В наборі не повинна залишитися колонка \"Language\".\n",
    "\n",
    "https://pandas.pydata.org/pandas-docs/stable/reference/api/pandas.DataFrame.rank.html"
   ]
  },
  {
   "cell_type": "code",
   "execution_count": 169,
   "metadata": {},
   "outputs": [
    {
     "name": "stdout",
     "output_type": "stream",
     "text": [
      "      Actual price  Rank  Language_de  Language_el  Language_en  Language_es  \\\n",
      "2092       119.988     1            0            1            0            0   \n",
      "7807       119.988     2            1            0            0            0   \n",
      "9856       119.964     1            1            0            0            0   \n",
      "7604       119.940     1            0            1            0            0   \n",
      "3844       119.916     1            0            1            0            0   \n",
      "\n",
      "      Language_fr  Language_it  Language_pt  Language_ru  Language_zh  \n",
      "2092            0            0            0            0            0  \n",
      "7807            0            0            0            0            0  \n",
      "9856            0            0            0            0            0  \n",
      "7604            0            0            0            0            0  \n",
      "3844            0            0            0            0            0  \n"
     ]
    }
   ],
   "source": [
    "encoded_data_sorted = pd.get_dummies(data_sorted, columns=['Language'])\n",
    "print(encoded_data_sorted.head())"
   ]
  },
  {
   "cell_type": "markdown",
   "metadata": {},
   "source": [
    "Кінцевий набір даних збережіть у файл з розширенням csv."
   ]
  },
  {
   "cell_type": "code",
   "execution_count": 170,
   "metadata": {},
   "outputs": [],
   "source": [
    "df.to_csv('encoded_data_sorted.csv', index=False)\n"
   ]
  }
 ],
 "metadata": {
  "kernelspec": {
   "display_name": "Python 3 (ipykernel)",
   "language": "python",
   "name": "python3"
  },
  "language_info": {
   "codemirror_mode": {
    "name": "ipython",
    "version": 3
   },
   "file_extension": ".py",
   "mimetype": "text/x-python",
   "name": "python",
   "nbconvert_exporter": "python",
   "pygments_lexer": "ipython3",
   "version": "3.10.9"
  }
 },
 "nbformat": 4,
 "nbformat_minor": 2
}
