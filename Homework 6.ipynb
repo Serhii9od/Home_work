{
 "cells": [
  {
   "cell_type": "markdown",
   "id": "a7329d76",
   "metadata": {},
   "source": [
    "<b><div style=\"text-align: center;font-size: 24px;\">Список чисел</div></b><br>\n",
    "\n",
    "На вхід до програми подається одне число n. Напишіть програму, яка відображає список [1, 2, 3, ..., n].\n",
    "\n",
    "\n",
    "<b>Sample Input </b><br>\n",
    "10\n",
    "\n",
    "<b>Sample Output</b><br> \n",
    "[1, 2, 3, 4, 5, 6, 7, 8, 9, 10]"
   ]
  },
  {
   "cell_type": "code",
   "execution_count": 4,
   "id": "e356ae31",
   "metadata": {},
   "outputs": [
    {
     "name": "stdout",
     "output_type": "stream",
     "text": [
      "Введіть число: -2\n",
      "Введите не отрицательное число\n"
     ]
    }
   ],
   "source": [
    "n = int(input(\"Введіть число: \"))  \n",
    "if n > 0:\n",
    "    numbers = list(range(1, n + 1))\n",
    "\n",
    "    print(numbers)\n",
    "else:\n",
    "    print(\"Введите не отрицательное число\")\n",
    "\n",
    "\n"
   ]
  },
  {
   "cell_type": "markdown",
   "id": "da8baa25",
   "metadata": {},
   "source": [
    "<b><div style=\"text-align: center;font-size: 24px;\">Список букв</div></b><br>\n",
    "\n",
    "На вхід до програми подається одне число n. Напишіть програму, яка виводить список, що складається з n букв англійського алфавіту ['a', 'b', 'c', ...] у нижньому регістрі.\n",
    "\n",
    "\n",
    "\n",
    "<b>Sample Input </b><br>\n",
    "5\n",
    "\n",
    "<b>Sample Output</b><br> \n",
    "['a', 'b', 'c', 'd', 'e']\n",
    "\n",
    "\n"
   ]
  },
  {
   "cell_type": "code",
   "execution_count": null,
   "id": "e2461dbb",
   "metadata": {},
   "outputs": [],
   "source": [
    "n = int(input(\"Введіть число n: \"))\n",
    "dic = ['a', 'b', 'c', 'd', 'e', 'f', 'g', 'h', 'i', 'j', 'k', 'l', 'm', 'n', 'o', 'p', 'q', 'r', 's', 't', 'u', 'v', 'w', 'x', 'y', 'z']\n",
    "\n",
    "if n <= len(dic):\n",
    "    result = dic[:n]\n",
    "    print(result)\n",
    "else:\n",
    "    print(\"Занадто велике n, не вистачає букв в алфавіті\")\n",
    "\n",
    "    \n",
    "    \n",
    "    \n",
    "    "
   ]
  },
  {
   "cell_type": "markdown",
   "id": "9c7b3472",
   "metadata": {},
   "source": [
    "<b><div style=\"text-align: center;font-size: 24px;\">Все відразу 1 🌶️</div></b><br>\n",
    "\n",
    "Доповніть наведений код, щоб він:\n",
    "\n",
    "- Вивів довжину списку;\n",
    "- Вивів останній елемент списку;\n",
    "- Вивів список у зворотному порядку (згадуємо зрізи);\n",
    "- Вивив YES якщо список містить числа 5 і 17, і NO інакше;\n",
    "- Вивів список з віддаленим першим та останнім елементами.\n",
    "\n",
    "**Примітка.** Кожен висновок здійснювати з нового рядка."
   ]
  },
  {
   "cell_type": "code",
   "execution_count": 8,
   "id": "cb73d9d0",
   "metadata": {},
   "outputs": [
    {
     "name": "stdout",
     "output_type": "stream",
     "text": [
      "50\n",
      "5\n",
      "[5, 7, 6, 16, 14, 2, 1, 15, 1, 9, 14, 10, 2, 1, 12, 6, 5, 14, 12, 2, 8, 14, 6, 0, 0, 12, 10, 10, 11, 1, 5, 8, 10, 10, 16, 8, 0, 1, 16, 4, 5, 12, 16, 11, 4, 10, 14, 3, 6, 2]\n",
      "NO\n",
      "[6, 3, 14, 10, 4, 11, 16, 12, 5, 4, 16, 1, 0, 8, 16, 10, 10, 8, 5, 1, 11, 10, 10, 12, 0, 0, 6, 14, 8, 2, 12, 14, 5, 6, 12, 1, 2, 10, 14, 9, 1, 15, 1, 2, 14, 16, 6, 7]\n"
     ]
    }
   ],
   "source": [
    "numbers = [2, 6, 3, 14, 10, 4, 11, 16, 12, 5, 4, 16, 1, 0, 8, 16, 10, \n",
    "           10, 8, 5, 1, 11, 10, 10, 12, 0, 0, 6, 14, 8, 2, 12, 14, 5, \n",
    "           6, 12, 1, 2, 10, 14, 9, 1, 15, 1, 2, 14, 16, 6, 7, 5]\n",
    "# 1. Вивести довжину списку\n",
    "print(len(numbers))\n",
    "\n",
    "# 2. Вивести останній елемент списку\n",
    "print(numbers[-1])\n",
    "\n",
    "# 3. Вивести список у зворотному порядку (з використанням зрізу)\n",
    "reversed_numbers = numbers[::-1]\n",
    "print(reversed_numbers)\n",
    "\n",
    "# 4. Вивести YES, якщо список містить числа 5 і 17, і NO інакше\n",
    "if 5 in numbers and 17 in numbers:\n",
    "    print(\"YES\")\n",
    "else:\n",
    "    print(\"NO\")\n",
    "\n",
    "# 5. Вивести список з видаленим першим та останнім елементами\n",
    "trimmed_numbers = numbers[1:-1]\n",
    "print(trimmed_numbers)"
   ]
  },
  {
   "cell_type": "markdown",
   "id": "9c686fb0",
   "metadata": {},
   "source": [
    "<b><div style=\"text-align: center;font-size: 24px;\">Список дільників</div></b><br>\n",
    "\n",
    "На вхід програмі подається натуральне число n. Напишіть програму, яка створює список, що складається з дільників уведеного числа.\n",
    "\n",
    "\n",
    "<b>Sample Input </b><br>\n",
    "36\n",
    "\n",
    "<b>Sample Output</b><br> \n",
    "[1, 2, 3, 4, 6, 9, 12, 18, 36]\n"
   ]
  },
  {
   "cell_type": "code",
   "execution_count": 10,
   "id": "c66a4c2a",
   "metadata": {},
   "outputs": [
    {
     "name": "stdout",
     "output_type": "stream",
     "text": [
      "Введіть число n: 24\n",
      "[1, 2, 3, 4, 6, 8, 12, 24]\n"
     ]
    }
   ],
   "source": [
    "n = int(input(\"Введіть число n: \"))\n",
    "dilniki = []\n",
    "\n",
    "for i in range(1, n + 1):\n",
    "    if n % i == 0:\n",
    "        dilniki.append(i)\n",
    "\n",
    "print(dilniki)\n",
    "\n"
   ]
  },
  {
   "cell_type": "markdown",
   "id": "a2b66fd0",
   "metadata": {},
   "source": [
    "<b><div style=\"text-align: center;font-size: 24px;\">k-а літера слова 🌶️🌶️</div></b><br>\n",
    "\n",
    "На вхід програмі подається натуральне число n та n рядків, а потім число k. Напишіть програму, яка виводить k-у літеру із введених рядків на одному рядку без пробілів.\n",
    "\n",
    "**Формат вхідних даних**\n",
    "На вхід програмі подається натуральне число n, далі n рядків, кожен на окремому рядку. Наприкінці вводиться натуральне число k – номер літери (нумерація починається з одиниці).\n",
    "\n",
    "**Формат вихідних даних**\n",
    "Програма має вивести текст відповідно до умови завдання.\n",
    "\n",
    "**Примітка.** Якщо деякі рядки надто короткі, і в них немає символу із заданим номером, такі рядки при виведенні потрібно ігнорувати.\n",
    "\n",
    "\n",
    "<b>Sample Input </b><br>\n",
    "5  \n",
    "abcdef  \n",
    "bcdefg  \n",
    "cdefgh  \n",
    "defghi  \n",
    "efghij  \n",
    "2  \n",
    "\n",
    "<b>Sample Output</b><br> \n",
    "bcdef\n",
    "\n",
    "\n",
    "\n"
   ]
  },
  {
   "cell_type": "code",
   "execution_count": null,
   "id": "52d4aa2d",
   "metadata": {},
   "outputs": [],
   "source": [
    "n = int(input(\"Введіть кількість рядків: \"))\n",
    "lines = []\n",
    "for _ in range(n):\n",
    "    line = input()\n",
    "    lines.append(line)\n",
    "\n",
    "k = int(input(\"Введіть номер літери: \"))\n",
    "\n",
    "result = \"\"\n",
    "\n",
    "for line in lines:\n",
    "    if k <= len(line):\n",
    "        result += line[k - 1]\n",
    "\n",
    "print(result)\n"
   ]
  },
  {
   "cell_type": "markdown",
   "id": "b1ad57e6",
   "metadata": {},
   "source": [
    "<b><div style=\"text-align: center;font-size: 24px;\">Символи всіх рядків</div></b><br>\n",
    "\n",
    "На вхід програмі подається натуральне число n, а потім n рядків. Напишіть програму, яка створює список із символів усіх рядків, а потім виводить його.\n",
    "\n",
    "\n",
    "<b>Sample Input </b><br>\n",
    "3  \n",
    "abc  \n",
    "def  \n",
    "ghi  \n",
    "\n",
    "<b>Sample Output</b><br> \n",
    "['a', 'b', 'c', 'd', 'e', 'f', 'g', 'h', 'i']\n",
    "\n",
    "\n",
    "\n"
   ]
  },
  {
   "cell_type": "code",
   "execution_count": 14,
   "id": "3fccc076",
   "metadata": {},
   "outputs": [
    {
     "name": "stdout",
     "output_type": "stream",
     "text": [
      "Введіть кількість рядків: 4\n",
      "rrr\n",
      "www\n",
      "yyy\n",
      "vvv\n",
      "['r', 'r', 'r', 'w', 'w', 'w', 'y', 'y', 'y', 'v', 'v', 'v']\n"
     ]
    }
   ],
   "source": [
    "n = int(input(\"Введіть кількість рядків: \"))\n",
    "characters = []\n",
    "\n",
    "for _ in range(n):\n",
    "    line = input()\n",
    "    characters.extend(list(line))\n",
    "\n",
    "print(characters)\n"
   ]
  },
  {
   "cell_type": "markdown",
   "id": "5309908a",
   "metadata": {},
   "source": [
    "<b><div style=\"text-align: center;font-size: 24px;\">Кількість пар, що збігаються</div></b><br>\n",
    "\n",
    "На вхід до програми подається рядок тексту, що містить цілі числа. З цього рядка формується перелік чисел. Напишіть програму, яка підраховує, скільки в отриманому списку пар елементів, рівних один одному. Вважається, що будь-які два елементи рівні один одному утворюють одну пару, яку необхідно порахувати.\n",
    "\n",
    "\n",
    "<b>Sample Input </b><br>\n",
    "1 7 5 7 5\n",
    "\n",
    "<b>Sample Output</b><br> \n",
    "2\n",
    "\n",
    "\n",
    "\n"
   ]
  },
  {
   "cell_type": "code",
   "execution_count": 19,
   "id": "8ffab26f",
   "metadata": {},
   "outputs": [
    {
     "name": "stdout",
     "output_type": "stream",
     "text": [
      "Введіть рядок тексту з цілими числами: 5\n",
      "0\n"
     ]
    }
   ],
   "source": [
    "text = input(\"Введіть рядок тексту з цілими числами: \")\n",
    "numbers = list(map(int, text.split()))\n",
    "\n",
    "# Створюємо словник для підрахунку кількості кожного числа\n",
    "count_dict = {}\n",
    "\n",
    "for number in numbers:\n",
    "    if number in count_dict:\n",
    "        count_dict[number] += 1\n",
    "    else:\n",
    "        count_dict[number] = 1\n",
    "\n",
    "# Підраховуємо кількість пар\n",
    "pair_count = 0\n",
    "for count in count_dict.values():\n",
    "    pair_count += count // 2\n",
    "\n",
    "print(pair_count)\n"
   ]
  },
  {
   "cell_type": "markdown",
   "id": "265f1d3e",
   "metadata": {},
   "source": [
    "<b><div style=\"text-align: center;font-size: 24px;\">Переставити min та max</div></b><br>\n",
    "\n",
    "На вхід до програми подається рядок тексту, що містить різні натуральні числа. З цього рядка формується перелік чисел. Напишіть програму, яка змінює місцями мінімальний та максимальний елемент цього списку.\n",
    "\n",
    "\n",
    "<b>Sample Input </b><br>\n",
    "3 4 5 2 1\n",
    "\n",
    "<b>Sample Output</b><br> \n",
    "3 4 1 2 5"
   ]
  },
  {
   "cell_type": "code",
   "execution_count": null,
   "id": "601e4b20",
   "metadata": {},
   "outputs": [],
   "source": [
    "text = input(\"Введіть рядок тексту з різними натуральними числами: \")\n",
    "numbers = list(map(int, text.split()))\n",
    "\n",
    "# Знаходимо індекс мінімального та максимального елементів\n",
    "min_index = numbers.index(min(numbers))\n",
    "max_index = numbers.index(max(numbers))\n",
    "\n",
    "# Змінюємо місцями мінімальний та максимальний елементи\n",
    "numbers[min_index], numbers[max_index] = numbers[max_index], numbers[min_index]\n",
    "\n",
    "# Виводимо змінений список\n",
    "print(\" \".join(map(str, numbers)))\n"
   ]
  },
  {
   "cell_type": "markdown",
   "id": "f3a4431d",
   "metadata": {},
   "source": [
    "<b><div style=\"text-align: center;font-size: 24px;\">Сума чисел</div></b><br>\n",
    "\n",
    "На вхід до програми подається рядок тексту, що містить натуральні числа. Напишіть програму, яка вставляє між кожним числом знак + і обчислює суму отриманих чисел.\n",
    "\n",
    "\n",
    "\n",
    "<b>Sample Input </b><br>\n",
    "2 5 11 33 55\n",
    "\n",
    "<b>Sample Output</b><br> \n",
    "2+5+11+33+55=106\n"
   ]
  },
  {
   "cell_type": "code",
   "execution_count": null,
   "id": "69b2f307",
   "metadata": {},
   "outputs": [],
   "source": [
    "text = input(\"Введіть рядок тексту з натуральними числами: \")\n",
    "\n",
    "numbers = [int(num) for num in text.split() if num.isdigit()]\n",
    "\n",
    "expression = \"+\".join(map(str, numbers))\n",
    "\n",
    "sum_result = sum(numbers)\n",
    "\n",
    "print(f\"{expression}={sum_result}\")\n",
    "\n"
   ]
  },
  {
   "cell_type": "markdown",
   "id": "c0a23d84",
   "metadata": {},
   "source": [
    "<b><div style=\"text-align: center;font-size: 24px;\">Валідний номер 🌶️🌶️</div></b><br>\n",
    "\n",
    "На вхід до програми подається рядок тексту. Напишіть програму, яка визначає, чи введений рядок є коректним телефонним номером. Рядок тексту є коректним номером, якщо він має формат:\n",
    "\n",
    "- abc-def-hijk або\n",
    "- 7-abc-def-hijk,\n",
    "\n",
    "де a, b, c, d, e, f, h, i, j, k цифри від 0 до 9.\n",
    "\n",
    "**Формат вхідних даних**\n",
    "На вхід до програми подається рядок тексту.\n",
    "\n",
    "**Формат вихідних даних**\n",
    "Програма повинна вивести YES, якщо рядок є коректним телефонним номером і NO в іншому випадку.\n",
    "\n",
    "**Примітка.** Телефонний номер повинен містити лише цифри та символ -, а кількість цифр у кожній групі має бути правильною.\n",
    "\n",
    "<b>Sample Input 1</b><br>\n",
    "7-301-447-5820\n",
    "\n",
    "<b>Sample Output 1</b><br> \n",
    "YES\n",
    "\n",
    "\n",
    "<br><br>\n",
    "\n",
    "<b>Sample Input 2</b><br>\n",
    "3X1-447-5820\n",
    "\n",
    "<b>Sample Output 2</b><br> \n",
    "NO\n"
   ]
  },
  {
   "cell_type": "code",
   "execution_count": null,
   "id": "e0daa3b8",
   "metadata": {},
   "outputs": [],
   "source": [
    "import re\n",
    "\n",
    "def is_valid_phone_number(s):\n",
    "    # Визначаємо регулярний вираз для перевірки\n",
    "    pattern = re.compile(r'^\\d{1}-\\d{3}-\\d{3}-\\d{4}$|^\\d{1}\\d{3}-\\d{3}-\\d{4}$')\n",
    "    return bool(re.match(pattern, s))\n",
    "\n",
    "# Введення рядка тексту\n",
    "text = input(\"Введіть рядок тексту: \")\n",
    "\n",
    "# Перевірка на коректність\n",
    "result = \"YES\" if is_valid_phone_number(text) else \"NO\"\n",
    "\n",
    "# Вивід результату\n",
    "print(result)\n"
   ]
  },
  {
   "cell_type": "markdown",
   "id": "b2902a3b",
   "metadata": {},
   "source": [
    "<b><div style=\"text-align: center;font-size: 24px;\">Найдовший</div></b><br>\n",
    "\n",
    "На вхід до програми подається рядок тексту. Напишіть програму, яка використовує обліковий вираз, яка знаходить довжину найдовшого слова.\n",
    "\n",
    "\n",
    "<b>Sample Input </b><br>\n",
    "проспал почти всю ночь\n",
    "\n",
    "<b>Sample Output</b><br> \n",
    "7"
   ]
  },
  {
   "cell_type": "code",
   "execution_count": null,
   "id": "065ecc33",
   "metadata": {},
   "outputs": [],
   "source": [
    "import re\n",
    "\n",
    "def find_longest_word_length(s):\n",
    "    words = re.findall(r'\\b\\w+\\b', s)\n",
    "    return max(len(word) for word in words)\n",
    "\n",
    "# Введення рядка тексту\n",
    "text = input(\"Введіть рядок тексту: \")\n",
    "\n",
    "# Знаходження довжини найдовшого слова\n",
    "result = find_longest_word_length(text)\n",
    "\n",
    "# Вивід результату\n",
    "print(result)\n"
   ]
  },
  {
   "cell_type": "markdown",
   "id": "ea8d5aa1",
   "metadata": {},
   "source": [
    "<b><div style=\"text-align: center;font-size: 24px;\">Молодіжний жаргон</div></b><br>\n",
    "\n",
    "На вхід до програми подається рядок тексту. Напишіть програму, яка використовує списковий вираз, яка перетворює кожне слово введеного тексту на \"молодіжний жаргон\" за таким правилом:\n",
    "\n",
    "перша літера кожного слова видаляється і ставиться до кінця слова;\n",
    "потім до кінця слова додається склад \"ки\".\n",
    "\n",
    "<b>Sample Input </b><br>\n",
    "проспал почти всю ночь\n",
    "\n",
    "<b>Sample Output</b><br> \n",
    "роспалпки очтипки сювки очьнки\n",
    "\n",
    "\n",
    "\n"
   ]
  },
  {
   "cell_type": "code",
   "execution_count": null,
   "id": "5de46a44",
   "metadata": {},
   "outputs": [],
   "source": [
    "def convert_to_youth_jargon(s):\n",
    "    words = s.split()\n",
    "    result = [word[1:] + word[0] + \"ки\" for word in words]\n",
    "    return \" \".join(result)\n",
    "\n",
    "# Введення рядка тексту\n",
    "text = input(\"Введіть рядок тексту: \")\n",
    "\n",
    "# Перетворення на \"молодіжний жаргон\"\n",
    "result = convert_to_youth_jargon(text)\n",
    "\n",
    "# Вивід результату\n",
    "print(result)\n"
   ]
  }
 ],
 "metadata": {
  "kernelspec": {
   "display_name": "Python 3 (ipykernel)",
   "language": "python",
   "name": "python3"
  },
  "language_info": {
   "codemirror_mode": {
    "name": "ipython",
    "version": 3
   },
   "file_extension": ".py",
   "mimetype": "text/x-python",
   "name": "python",
   "nbconvert_exporter": "python",
   "pygments_lexer": "ipython3",
   "version": "3.10.9"
  }
 },
 "nbformat": 4,
 "nbformat_minor": 5
}
