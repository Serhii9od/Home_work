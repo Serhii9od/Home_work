{
 "cells": [
  {
   "cell_type": "markdown",
   "id": "c567c3bc",
   "metadata": {},
   "source": [
    "<b><div style=\"text-align: center;font-size: 24px;\">Улюблена команда</div></b><br>\n",
    "    \n",
    "На вхід до програми подається рядок тексту – назва футбольної команди. Напишіть програму, яка повторює її на екрані зі словами \"- чемпіон!\" (без лапок).\n",
    "\n",
    "<b>Sample Input:</b><br>\n",
    "Барселона.<br>\n",
    "\n",
    "<b>Sample Output</b><br> \n",
    "Барселона – чемпіон!"
   ]
  },
  {
   "cell_type": "code",
   "execution_count": 3,
   "id": "d0034bd9",
   "metadata": {},
   "outputs": [
    {
     "name": "stdout",
     "output_type": "stream",
     "text": [
      "Введите название команды: Dinamo\n",
      "Dinamo - чемпіон!\n"
     ]
    }
   ],
   "source": [
    "name_team = input(str(\"Введите название команды: \"))\n",
    "print(f'{name_team } - чемпіон!')"
   ]
  },
  {
   "cell_type": "markdown",
   "id": "f2864c44",
   "metadata": {},
   "source": [
    "<b><div style=\"text-align: center;font-size: 24px;\">Кастомний роздільник</div></b><br>\n",
    "    \n",
    "Напишіть програму, яка зчитує рядок-розділювач та три рядки, а потім виводить вказані рядки через роздільник.\n",
    "\n",
    "<b>Sample Input:</b><br>\n",
    "Money often  \n",
    "costs  \n",
    "too much  \n",
    "\n",
    "<b>Sample Output</b><br> \n",
    "Money often##costs##too much\n",
    "\n"
   ]
  },
  {
   "cell_type": "code",
   "execution_count": 11,
   "id": "877ca197",
   "metadata": {
    "scrolled": true
   },
   "outputs": [
    {
     "name": "stdout",
     "output_type": "stream",
     "text": [
      "eeeee\n",
      "wwwww\n",
      "xxxx\n",
      "tyty\n",
      "wwwww##xxxx##tyty\n"
     ]
    }
   ],
   "source": [
    "delimiter = input()\n",
    "\n",
    "# Зчитування трьох рядків\n",
    "line1 = input()\n",
    "line2 = input()\n",
    "line3 = input()\n",
    "result = f\"{line1}##{line2}##{line3}\"\n",
    "print(result)"
   ]
  },
  {
   "cell_type": "markdown",
   "id": "88415bfc",
   "metadata": {},
   "source": [
    "<b><div style=\"text-align: center;font-size: 24px;\">Значення функції</div></b><br>\n",
    "    \n",
    "Напишіть програму обчислення значення функції 3(a + b)<sup>3</sup> + 275b<sup>2</sup> - 127a - 41 за введеними цілими значеннями a i b.\n",
    " \n",
    "<b>Sample Input:</b><br>\n",
    "1  \n",
    "1\n",
    "\n",
    "<b>Sample Output</b><br> \n",
    "131"
   ]
  },
  {
   "cell_type": "code",
   "execution_count": 6,
   "id": "ba578362",
   "metadata": {},
   "outputs": [
    {
     "name": "stdout",
     "output_type": "stream",
     "text": [
      "введие число a= 1\n",
      "введие число b= 1\n",
      "131\n"
     ]
    }
   ],
   "source": [
    "a = int(input('введие число a= '))\n",
    "b = int(input('введие число b= '))\n",
    "print(3*(a+b)**3+275*b**2-127*a-41)\n"
   ]
  },
  {
   "cell_type": "markdown",
   "id": "339cbf67",
   "metadata": {},
   "source": [
    "<b><div style=\"text-align: center;font-size: 24px;\">Арифметичні операції</div></b><br>\n",
    "    \n",
    "Напишіть програму, в якій обчислюється сума, різниця та добуток двох цілих чисел, введених з клавіатури.\n",
    " \n",
    "<b>Sample Input:</b><br>\n",
    "2  \n",
    "7\n",
    "\n",
    "<b>Sample Output</b><br> \n",
    "2 + 7 = 9  \n",
    "2 - 7 = -5  \n",
    "2 * 7 = 14\n",
    "\n",
    "\n"
   ]
  },
  {
   "cell_type": "code",
   "execution_count": 7,
   "id": "6519dbf9",
   "metadata": {},
   "outputs": [
    {
     "name": "stdout",
     "output_type": "stream",
     "text": [
      "введие число a= 2\n",
      "введие число b= 7\n",
      "9\n",
      "-5\n",
      "14\n"
     ]
    }
   ],
   "source": [
    "a = int(input('введие число a= '))\n",
    "b = int(input('введие число b= '))\n",
    "print(a+b)\n",
    "print(a-b)\n",
    "print(a*b)\n"
   ]
  },
  {
   "cell_type": "markdown",
   "id": "90916856",
   "metadata": {},
   "source": [
    "<b><div style=\"text-align: center;font-size: 24px;\">Розділяй і володарюй</div></b><br>\n",
    "    \n",
    "Напишіть програму, яка зчитує ціле позитивне число x та виводить на екран послідовність чисел\n",
    "x, 2x, 3x, 4x та 5x, розділених трьома рисочками.\n",
    " \n",
    "<b>Sample Input:</b><br>\n",
    "7\n",
    "\n",
    "<b>Sample Output</b><br> \n",
    "7---14---21---28---35\n",
    "\n",
    "\n",
    "\n",
    "\n",
    "\n"
   ]
  },
  {
   "cell_type": "code",
   "execution_count": 12,
   "id": "dcd1add7",
   "metadata": {},
   "outputs": [
    {
     "name": "stdout",
     "output_type": "stream",
     "text": [
      "введие число a= 7\n",
      "7---14---21---28---35\n"
     ]
    }
   ],
   "source": [
    "a = int(input('введие число a= '))\n",
    "print(f'{a}---{a*2}---{a*3}---{a*4}---{a*5}')"
   ]
  },
  {
   "cell_type": "markdown",
   "id": "aceb7d47",
   "metadata": {},
   "source": [
    "<b><div style=\"text-align: center;font-size: 24px;\">Тризначне число</div></b><br>\n",
    "    \n",
    "Напишіть програму, в якій розраховується сума та добуток цифр позитивного тризначного числа.\n",
    " \n",
    "<b>Sample Input:</b><br>\n",
    "333\n",
    "\n",
    "<b>Sample Output</b><br> \n",
    "Сума цифр = 9  \n",
    "Добуток цифр = 27\n",
    "\n",
    "\n",
    "\n",
    "\n",
    "\n",
    "\n",
    "\n",
    "\n"
   ]
  },
  {
   "cell_type": "code",
   "execution_count": 1,
   "id": "ee5049a2",
   "metadata": {},
   "outputs": [
    {
     "name": "stdout",
     "output_type": "stream",
     "text": [
      "Введите трехзначное число: 333\n",
      "Сума цифр = 9\n",
      "Добуток цифр = 27\n"
     ]
    }
   ],
   "source": [
    "number = int(input(\"Введите трехзначное число: \"))\n",
    "num1 = number //100\n",
    "num2 = (number //10)%10\n",
    "num3 = number %10\n",
    "print(f'Сума цифр = {num1+num2+num3}')\n",
    "print(f'Добуток цифр = {num1*num2*num3}')"
   ]
  },
  {
   "cell_type": "markdown",
   "id": "6a2fbb7d",
   "metadata": {},
   "source": [
    "<b><div style=\"text-align: center;font-size: 24px;\">Чотиризначна кількість</div></b><br>\n",
    "    \n",
    "Напишіть програму для знаходження цифр чотиризначного числа.\n",
    " \n",
    "<b>Sample Input:</b><br>\n",
    "3281\n",
    "\n",
    "<b>Sample Output</b><br> \n",
    "Цифра в позиції тисяч дорівнює 3  \n",
    "Цифра в позиції сотень дорівнює 2  \n",
    "Цифра в позиції десятків дорівнює 8  \n",
    "Цифра позиції одиниць дорівнює 1"
   ]
  },
  {
   "cell_type": "code",
   "execution_count": 8,
   "id": "a056eb87",
   "metadata": {},
   "outputs": [
    {
     "name": "stdout",
     "output_type": "stream",
     "text": [
      "Введите четырехзначное число: 3281\n",
      "Цифра в позиції тисяч дорівнює 3\n",
      "Цифра в позиції сотень дорівнює 2\n",
      "Цифра в позиції десятків дорівнює 8\n",
      "Цифра позиції одиниць дорівнює 1\n"
     ]
    }
   ],
   "source": [
    "number = int(input(\"Введите четырехзначное число: \"))\n",
    "num1 = number //1000\n",
    "num2 = (number //100)%10\n",
    "num3 = (number //10)%10\n",
    "num4 = number %10\n",
    "# print(num1)\n",
    "# print(num2)\n",
    "# print(num3)\n",
    "# print(num4)\n",
    "print(f'Цифра в позиції тисяч дорівнює {num1}')\n",
    "print(f'Цифра в позиції сотень дорівнює {num2}')\n",
    "print(f'Цифра в позиції десятків дорівнює {num3}')\n",
    "print(f'Цифра позиції одиниць дорівнює {num4}')"
   ]
  },
  {
   "cell_type": "code",
   "execution_count": null,
   "id": "cdff769b",
   "metadata": {},
   "outputs": [],
   "source": []
  }
 ],
 "metadata": {
  "kernelspec": {
   "display_name": "Python 3 (ipykernel)",
   "language": "python",
   "name": "python3"
  },
  "language_info": {
   "codemirror_mode": {
    "name": "ipython",
    "version": 3
   },
   "file_extension": ".py",
   "mimetype": "text/x-python",
   "name": "python",
   "nbconvert_exporter": "python",
   "pygments_lexer": "ipython3",
   "version": "3.10.9"
  }
 },
 "nbformat": 4,
 "nbformat_minor": 5
}
