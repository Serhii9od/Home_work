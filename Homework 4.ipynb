{
 "cells": [
  {
   "cell_type": "markdown",
   "id": "693dc9e9",
   "metadata": {},
   "source": [
    "<b><div style=\"text-align: center;font-size: 24px;\">Послідовність чисел 2 🌶️</div></b><br>\n",
    "    \n",
    "Дано два цілих числа m і n. Напишіть програму, яка виводить усі числа від m до n включно у порядку зростання, якщо m<n, або у порядку спадання в іншому випадку.\n",
    "\n",
    "<b>Sample Input 1</b><br>\n",
    "1\n",
    "5\n",
    "\n",
    "<b>Sample Output 1</b><br> \n",
    "1\n",
    "2\n",
    "3\n",
    "4\n",
    "5\n",
    "\n",
    "<br><br>\n",
    "<b>Sample Input 2</b><br>\n",
    "7\n",
    "3\n",
    "\n",
    "<b>Sample Output 2</b><br> \n",
    "7\n",
    "6\n",
    "5\n",
    "4\n",
    "3"
   ]
  },
  {
   "cell_type": "code",
   "execution_count": 1,
   "id": "0ba527df",
   "metadata": {},
   "outputs": [
    {
     "name": "stdout",
     "output_type": "stream",
     "text": [
      "Введіть перше ціле число (m): 23\n",
      "Введіть друге ціле число (n): 23\n",
      "23 "
     ]
    }
   ],
   "source": [
    "m = int(input(\"Введіть перше ціле число (m): \"))\n",
    "n = int(input(\"Введіть друге ціле число (n): \"))\n",
    "\n",
    "if m < n:\n",
    "    # Виводимо числа у порядку зростання\n",
    "    for i in range(m, n + 1):\n",
    "        print(i, end=\" \")\n",
    "else:\n",
    "    # Виводимо числа у порядку спадання\n",
    "    for i in range(m, n - 1, -1):\n",
    "        print(i, end=\" \")\n"
   ]
  },
  {
   "cell_type": "markdown",
   "id": "05c4d420",
   "metadata": {},
   "source": [
    "<b><div style=\"text-align: center;font-size: 24px;\">Сума дільників</div></b><br>\n",
    "    \n",
    "На вхід програмі подається натуральне число n. Напишіть програму, яка обчислює суму всіх дільників.\n",
    "\n",
    "<b>Sample Input</b><br>\n",
    "10\n",
    "\n",
    "<b>Sample Output</b><br> \n",
    "18\n"
   ]
  },
  {
   "cell_type": "code",
   "execution_count": 3,
   "id": "f560c242",
   "metadata": {},
   "outputs": [
    {
     "name": "stdout",
     "output_type": "stream",
     "text": [
      "Введіть натуральне число n: 32\n",
      "Сума всіх дільників числа 32 дорівнює 63\n"
     ]
    }
   ],
   "source": [
    "n = int(input(\"Введіть натуральне число n: \"))\n",
    "sum_of_divisors = 0\n",
    "\n",
    "for i in range(1, n + 1):\n",
    "    if n % i == 0:\n",
    "        sum_of_divisors += i\n",
    "\n",
    "print(\"Сума всіх дільників числа\", n, \"дорівнює\", sum_of_divisors)\n"
   ]
  },
  {
   "cell_type": "markdown",
   "id": "de3582e9",
   "metadata": {},
   "source": [
    "<b><div style=\"text-align: center;font-size: 24px;\">Найбільші числа 🌶️🌶️</div></b><br>\n",
    "    \n",
    "На вхід програмі подається натуральне число n, а потім n різних натуральних чисел послідовності, кожне на окремому рядку. Напишіть програму, яка виводить найбільше та друге найбільше число послідовності.\n",
    "\n",
    "<b>Sample Input</b><br>\n",
    "5  \n",
    "\n",
    "1  \n",
    "2  \n",
    "3  \n",
    "4  \n",
    "5  \n",
    "\n",
    "<b>Sample Output</b><br> \n",
    "4  \n",
    "5\n",
    "\n",
    "\n",
    "\n"
   ]
  },
  {
   "cell_type": "code",
   "execution_count": 1,
   "id": "584227c5",
   "metadata": {},
   "outputs": [
    {
     "name": "stdout",
     "output_type": "stream",
     "text": [
      "Введіть кількість чисел: 3\n",
      "Введіть число: 45\n",
      "Введіть число: 23\n",
      "Введіть число: 23\n",
      "Найбільше число: 45\n",
      "Друге найбільше число: 23\n"
     ]
    }
   ],
   "source": [
    "n = int(input(\"Введіть кількість чисел: \"))\n",
    "\n",
    "if n < 2:\n",
    "    print(\"Потрібно ввести принаймні два числа.\")\n",
    "else:\n",
    "    max_num = float('-inf')  # Початкове значення для пошуку максимуму\n",
    "    second_max = float('-inf')  # Початкове значення для другого максимуму\n",
    "\n",
    "    for i in range(n):\n",
    "        num = int(input(\"Введіть число: \"))\n",
    "        \n",
    "        if num > max_num:\n",
    "            second_max = max_num\n",
    "            max_num = num\n",
    "        elif num > second_max and num != max_num:\n",
    "            second_max = num\n",
    "\n",
    "    if second_max == float('-inf'):\n",
    "        print(\"Не вдалося знайти друге найбільше число.\")\n",
    "    else:\n",
    "        print(\"Найбільше число:\", max_num)\n",
    "        print(\"Друге найбільше число:\", second_max)\n"
   ]
  },
  {
   "cell_type": "markdown",
   "id": "a895c567",
   "metadata": {},
   "source": [
    "<b><div style=\"text-align: center;font-size: 24px;\">Послідовність Фібоначчі 🌶️</div></b><br>\n",
    "    \n",
    "Напишіть програму, яка зчитує натуральне число n і виводить перші n чисел послідовності Фібоначчі.\n",
    "\n",
    "<b>Примітка.</b> Послідовність Фібоначчі – це послідовність натуральних чисел, де кожне наступне число є сумою двох попередніх:\n",
    "\n",
    "<b>Sample Input</b><br>\n",
    "5   \n",
    "\n",
    "<b>Sample Output</b><br> \n",
    "1 1 2 3 5\n",
    "\n",
    "\n",
    "\n",
    "\n",
    "\n",
    "\n"
   ]
  },
  {
   "cell_type": "code",
   "execution_count": 2,
   "id": "b2481b7e",
   "metadata": {},
   "outputs": [
    {
     "name": "stdout",
     "output_type": "stream",
     "text": [
      "Введіть кількість чисел послідовності Фібоначчі: 23\n",
      "1 2 3 5 8 13 21 34 55 89 144 233 377 610 987 1597 2584 4181 6765 10946 17711 28657 "
     ]
    }
   ],
   "source": [
    "n = int(input(\"Введіть кількість чисел послідовності Фібоначчі: \"))\n",
    "\n",
    "# Перші два числа в послідовності Фібоначчі\n",
    "a, b = 1, 1\n",
    "\n",
    "if n <= 0:\n",
    "    print(\"Будь ласка, введіть додатне число.\")\n",
    "elif n == 1:\n",
    "    print(a)\n",
    "else:\n",
    "    # Виводимо перше число\n",
    "    print(a, end=\" \")\n",
    "    \n",
    "    # Обчислюємо та виводимо наступні числа\n",
    "    for i in range(2, n):\n",
    "        a, b = b, a + b\n",
    "        print(b, end=\" \")\n"
   ]
  },
  {
   "cell_type": "markdown",
   "id": "ea2d3f9e",
   "metadata": {},
   "source": [
    "<b><div style=\"text-align: center;font-size: 24px;\">Дотримуйся правил</div></b><br>\n",
    "    \n",
    "На вхід програмі подається натуральне число n. Напишіть програму, яка виводить числа від 1 до n включно за винятком: \n",
    "\n",
    "- чисел від 5 до 9 включно; \n",
    "- чисел від 17 до 37 включно; \n",
    "- чисел від 78 до 87 включно.\n",
    "\n",
    "<b>Примітка.</b> Використовуйте оператор continue.\n",
    "\n",
    "<b>Sample Input</b><br>\n",
    "20  \n",
    "\n",
    "<b>Sample Output</b><br> \n",
    "1  \n",
    "2  \n",
    "3  \n",
    "4  \n",
    "10  \n",
    "11  \n",
    "12  \n",
    "13  \n",
    "14  \n",
    "15  \n",
    "16  \n",
    "\n",
    "\n",
    "\n"
   ]
  },
  {
   "cell_type": "code",
   "execution_count": null,
   "id": "9185104a",
   "metadata": {},
   "outputs": [],
   "source": [
    "n = int(input(\"Введіть натуральне число n: \"))\n",
    "\n",
    "for i in range(1, n + 1):\n",
    "    if 5 <= i <= 9 or 17 <= i <= 37 or 78 <= i <= 87:\n",
    "        continue\n",
    "    print(i, end=\" \")\n",
    "\n",
    "    "
   ]
  },
  {
   "cell_type": "markdown",
   "id": "5a6cba25",
   "metadata": {},
   "source": [
    "<b><div style=\"text-align: center;font-size: 24px;\">Всі разом</div></b><br>\n",
    "    \n",
    "Дано натуральне число. Напишіть програму, яка обчислює:\n",
    "\n",
    "- кількість цифр 3 у ньому;\n",
    "- скільки разів у ньому зустрічається остання цифра;\n",
    "- кількість парних цифр;\n",
    "- суму його цифр, більших за п'ять;\n",
    "- добуток цифр, більших семи (якщо цифр більших семи немає, то вивести 1, якщо така цифра одна, то вивести її);\n",
    "- скільки разів у ньому зустрічається цифри 0 та 5 (всього сумарно).\n",
    "\n",
    "\n",
    "<b>Sample Input</b><br>\n",
    "56689932106  \n",
    "\n",
    "<b>Sample Output</b><br> \n",
    "1  \n",
    "3  \n",
    "6  \n",
    "44  \n",
    "648  \n",
    "2   \n",
    "\n",
    "\n",
    "\n",
    "\n",
    "\n",
    "\n",
    "\n",
    "\n",
    "\n"
   ]
  },
  {
   "cell_type": "code",
   "execution_count": null,
   "id": "298f3e6a",
   "metadata": {},
   "outputs": [],
   "source": [
    "n = int(input(\"Введіть натуральне число: \"))\n",
    "n_str = str(n)  # Перетворюємо число в рядок для легшої обробки цифр\n",
    "\n",
    "# Ініціалізуємо змінні для обчислень\n",
    "count_3 = 0\n",
    "last_digit = int(n_str[-1])  # Остання цифра числа\n",
    "count_even = 0\n",
    "sum_gt_5 = 0\n",
    "product_gt_7 = 1\n",
    "count_0_5 = 0\n",
    "\n",
    "# Обчислення параметрів\n",
    "for digit in n_str:\n",
    "    digit = int(digit)\n",
    "    if digit == 3:\n",
    "        count_3 += 1\n",
    "    if digit == last_digit:\n",
    "        last_digit_count += 1\n",
    "    if digit % 2 == 0:\n",
    "        count_even += 1\n",
    "    if digit > 5:\n",
    "        sum_gt_5 += digit\n",
    "    if digit > 7:\n",
    "        product_gt_7 *= digit\n",
    "    if digit == 0 or digit == 5:\n",
    "        count_0_5 += 1\n",
    "\n",
    "# Виведення результатів\n",
    "print(f\"Кількість цифр 3: {count_3}\")\n",
    "print(f\"Кількість разів остання цифра ({last_digit}) зустрічається: {last_digit_count}\")\n",
    "print(f\"Кількість парних цифр: {count\n"
   ]
  },
  {
   "cell_type": "markdown",
   "id": "13d6cd6a",
   "metadata": {},
   "source": [
    "<b><div style=\"text-align: center;font-size: 24px;\">Цікавинка 🌶️</div></b><br>\n",
    "\n",
    "Вибір елементів, сума яких є парним числом. \n",
    "\n",
    "<b>Sample Input</b><br>\n",
    "[10, 20, 30, 40, 50]  \n",
    "[3, 6, 9, 12, 15]\n",
    "  \n",
    "\n",
    "<b>Sample Output</b><br> \n",
    "[(20, 6), (40, 12)]"
   ]
  },
  {
   "cell_type": "code",
   "execution_count": 3,
   "id": "367e939d",
   "metadata": {},
   "outputs": [
    {
     "name": "stdout",
     "output_type": "stream",
     "text": [
      "[(10, 6), (10, 12), (20, 6), (20, 12), (30, 6), (30, 12), (40, 6), (40, 12), (50, 6), (50, 12)]\n"
     ]
    }
   ],
   "source": [
    "# Ввід списків\n",
    "list1 = [10, 20, 30, 40, 50]\n",
    "list2 = [3, 6, 9, 12, 15]\n",
    "\n",
    "# Ініціалізація порожнього списку для результату\n",
    "result = []\n",
    "\n",
    "# Перебір усіх можливих пар елементів з обох списків\n",
    "for num1 in list1:\n",
    "    for num2 in list2:\n",
    "        # Обчислення суми пари елементів\n",
    "        pair_sum = num1 + num2\n",
    "        # Перевірка, чи є сума пари елементів парним числом\n",
    "        if pair_sum % 2 == 0:\n",
    "            # Додавання пари елементів до результату\n",
    "            result.append((num1, num2))\n",
    "\n",
    "# Вивід результату\n",
    "print(result)\n",
    "\n"
   ]
  },
  {
   "cell_type": "code",
   "execution_count": null,
   "id": "689c8047",
   "metadata": {},
   "outputs": [],
   "source": []
  }
 ],
 "metadata": {
  "kernelspec": {
   "display_name": "Python 3 (ipykernel)",
   "language": "python",
   "name": "python3"
  },
  "language_info": {
   "codemirror_mode": {
    "name": "ipython",
    "version": 3
   },
   "file_extension": ".py",
   "mimetype": "text/x-python",
   "name": "python",
   "nbconvert_exporter": "python",
   "pygments_lexer": "ipython3",
   "version": "3.10.9"
  }
 },
 "nbformat": 4,
 "nbformat_minor": 5
}
