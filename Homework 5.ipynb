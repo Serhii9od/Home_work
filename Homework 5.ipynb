{
 "cells": [
  {
   "cell_type": "markdown",
   "id": "0596b13b",
   "metadata": {},
   "source": [
    "<b><div style=\"text-align: center;font-size: 24px;\">Заголовні букви</div></b><br>\n",
    "\n",
    "На вхід програмі подається рядок, що складається з імені та прізвища людини, розділених одним пропуском. Напишіть програму, яка перевіряє, що ім'я та прізвище починаються з великої літери.\n",
    "\n",
    "\n",
    "<b>Sample Input 1</b><br>\n",
    "chris alan\n",
    "\n",
    "<b>Sample Output 1</b><br> \n",
    "NO\n",
    "\n",
    "<br><br>\n",
    "<b>Sample Input 2</b><br>\n",
    "Chris Alan\n",
    "\n",
    "<b>Sample Output 2</b><br> \n",
    "YES"
   ]
  },
  {
   "cell_type": "code",
   "execution_count": null,
   "id": "001bf29b",
   "metadata": {},
   "outputs": [],
   "source": [
    "# Ввід рядка\n",
    "full_name = input(\"Введіть ім'я та прізвище (у форматі 'Ім'я Прізвище'): \")\n",
    "\n",
    "# Розділення рядка на ім'я та прізвище за пропуском\n",
    "first_name, last_name = full_name.split()\n",
    "\n",
    "# Перевірка, чи починається кожне слово з великої літери\n",
    "if first_name.istitle() and last_name.istitle():\n",
    "    print(\"Ім'я та прізвище починаються з великої літери.\")\n",
    "else:\n",
    "    print(\"Ім'я та прізвище не починаються з великої літери.\")\n"
   ]
  },
  {
   "cell_type": "markdown",
   "id": "b861d5ab",
   "metadata": {},
   "source": [
    "<b><div style=\"text-align: center;font-size: 24px;\">sWAP cASE</div></b><br>\n",
    "\n",
    "На вхід до програми подається рядок. Напишіть програму, яка змінює регістр символів, тобто замініть всі малі символи великими і навпаки.\n",
    "\n",
    "\n",
    "<b>Sample Input </b><br>\n",
    "Swap Case\n",
    "\n",
    "<b>Sample Output</b><br> \n",
    "sWAP cASE"
   ]
  },
  {
   "cell_type": "code",
   "execution_count": null,
   "id": "98399625",
   "metadata": {},
   "outputs": [],
   "source": [
    "# Ввід рядка\n",
    "input_string = input(\"Введіть рядок: \")\n",
    "\n",
    "# Функція для зміни регістру символів\n",
    "def toggle_case(char):\n",
    "    if char.islower():\n",
    "        return char.upper()\n",
    "    elif char.isupper():\n",
    "        return char.lower()\n",
    "    else:\n",
    "        return char\n",
    "\n",
    "# Застосування функції до кожного символу у рядку\n",
    "result_string = ''.join(map(toggle_case, input_string))\n",
    "\n",
    "# Вивід результуючого рядка\n",
    "print(\"Результат:\", result_string)\n",
    "\n"
   ]
  },
  {
   "cell_type": "markdown",
   "id": "dec7f149",
   "metadata": {},
   "source": [
    "<b><div style=\"text-align: center;font-size: 24px;\">нижній регістр</div></b><br>\n",
    "\n",
    "На вхід до програми подається рядок. Напишіть програму, яка підраховує кількість літерних символів у нижньому регістрі.\n",
    "\n",
    "\n",
    "<b>Sample Input</b><br>\n",
    "2376423745dhdhdPPPP\n",
    "\n",
    "<b>Sample Output</b><br> \n",
    "5\n",
    "\n",
    "\n"
   ]
  },
  {
   "cell_type": "code",
   "execution_count": null,
   "id": "97efcba9",
   "metadata": {},
   "outputs": [],
   "source": [
    "# Ввід рядка\n",
    "input_string = input(\"Введіть рядок: \")\n",
    "\n",
    "# Лічильник для літерних символів у нижньому регістрі\n",
    "count_lowercase = 0\n",
    "\n",
    "# Перевірка кожного символу у рядку\n",
    "for char in input_string:\n",
    "    if char.islower():\n",
    "        count_lowercase += 1\n",
    "\n",
    "# Вивід результату\n",
    "print(\"Кількість літерних символів у нижньому регістрі:\", count_lowercase)\n"
   ]
  },
  {
   "cell_type": "markdown",
   "id": "6c414595",
   "metadata": {},
   "source": [
    "<b><div style=\"text-align: center;font-size: 24px;\">Кількість слів</div></b><br>\n",
    "\n",
    "На вхід програмі подається рядок тексту, що складається зі слів, розділених рівно одним пропуском. Напишіть програму, яка підраховує кількість слів у ній.\n",
    "\n",
    "\n",
    "<b>Sample Input</b><br>\n",
    "Hello world\n",
    "\n",
    "<b>Sample Output</b><br> \n",
    "2\n",
    "\n",
    "\n"
   ]
  },
  {
   "cell_type": "code",
   "execution_count": 2,
   "id": "7d078858",
   "metadata": {},
   "outputs": [
    {
     "name": "stdout",
     "output_type": "stream",
     "text": [
      "Введіть декілька слів: ejfer ehif ehrfbe e \n",
      "4\n"
     ]
    }
   ],
   "source": [
    "input_string = input(\"Введіть декілька слів: \")\n",
    "words = input_string.split()\n",
    "count_ = len(words)\n",
    "print(count_)  # Выводим количество слов\n"
   ]
  },
  {
   "cell_type": "markdown",
   "id": "fdbb9fe4",
   "metadata": {},
   "source": [
    "<b><div style=\"text-align: center;font-size: 24px;\">Хвилинка генетики</div></b><br>\n",
    "\n",
    "На вхід до програми подається рядок генетичного коду, що складається з літер А (аденін), Г (гуанін), Ц (цитозин), Т (тимін). Напишіть програму, яка підраховує скільки аденіну, гуаніну, цитозину і тиміну входить у цей рядок генетичного коду.\n",
    "\n",
    "\n",
    "<b>Sample Input</b><br>\n",
    "АааГГЦЦцТТттт\n",
    "\n",
    "<b>Sample Output</b><br> \n",
    "Аденін: 3  \n",
    "Гуанін: 2  \n",
    "Цитозин: 3  \n",
    "Тімін: 5\n",
    "\n",
    "\n",
    "\n",
    "\n",
    "\n"
   ]
  },
  {
   "cell_type": "code",
   "execution_count": 1,
   "id": "7676372e",
   "metadata": {},
   "outputs": [
    {
     "name": "stdout",
     "output_type": "stream",
     "text": [
      "Введіть рядок генетичного коду: АааГГЦЦцТТттт\n",
      "Аденін: 3\n",
      "Гуанін: 2\n",
      "Цитозин: 3\n",
      "Тімін: 5\n"
     ]
    }
   ],
   "source": [
    "input_string = input(\"Введіть рядок генетичного коду: \")\n",
    "\n",
    "adenine_count = 0\n",
    "guanine_count = 0\n",
    "cytosine_count = 0\n",
    "thymine_count = 0\n",
    "\n",
    "input_string = input_string.upper()\n",
    "\n",
    "for i in input_string:\n",
    "    if i == \"А\":\n",
    "        adenine_count += 1\n",
    "    elif i == \"Г\":\n",
    "        guanine_count += 1\n",
    "    elif i == \"Ц\":\n",
    "        cytosine_count += 1\n",
    "    elif i== \"Т\":\n",
    "        thymine_count += 1\n",
    "\n",
    "\n",
    "print(\"Аденін:\", adenine_count)\n",
    "print(\"Гуанін:\", guanine_count)\n",
    "print(\"Цитозин:\", cytosine_count)\n",
    "print(\"Тімін:\", thymine_count)\n"
   ]
  },
  {
   "cell_type": "markdown",
   "id": "bd4cfa1d",
   "metadata": {},
   "source": [
    "<b><div style=\"text-align: center;font-size: 24px;\">Видалення фрагмента</div></b><br>\n",
    "\n",
    "На вхід до програми подається рядок тексту, в якому літера «h» зустрічається щонайменше двічі. Напишіть програму, яка видаляє з цього рядка перше та останнє входження літери «h», а також усі символи, що знаходяться між ними.\n",
    "\n",
    "\n",
    "<b>Sample Input</b><br>\n",
    "\n",
    "\n",
    "<b>Sample Output</b><br> \n",
    "aa\n",
    "\n",
    "\n",
    "\n",
    "\n",
    "\n"
   ]
  },
  {
   "cell_type": "code",
   "execution_count": 3,
   "id": "e783a8b4",
   "metadata": {},
   "outputs": [
    {
     "name": "stdout",
     "output_type": "stream",
     "text": [
      "Ваш ввідний рядок тексту\n"
     ]
    }
   ],
   "source": [
    "input_string = \"Ваш ввідний рядок тексту\"  # Замініть це на введений вами рядок\n",
    "\n",
    "# Знаходження першого та останнього входження літери \"h\"\n",
    "first_h_index = input_string.find(\"h\")\n",
    "last_h_index = input_string.rfind(\"h\")\n",
    "\n",
    "# Перевірка, чи літера \"h\" була знайдена щонайменше двічі\n",
    "if first_h_index != -1 and last_h_index != -1 and first_h_index != last_h_index:\n",
    "    # Видалення частини рядка від першого \"h\" до останнього \"h\"\n",
    "    result_string = input_string[:first_h_index] + input_string[last_h_index + 1:]\n",
    "else:\n",
    "    # Якщо літера \"h\" не знайдена двічі, результат залишається без змін\n",
    "    result_string = input_string\n",
    "\n",
    "# Вивід результату\n",
    "print(result_string)\n"
   ]
  },
  {
   "cell_type": "markdown",
   "id": "8ac9f6c0",
   "metadata": {},
   "source": [
    "<b><div style=\"text-align: center;font-size: 24px;\">Перше та останнє входження</div></b><br>\n",
    "\n",
    "\n",
    "На вхід до програми подається рядок тексту. Якщо в цьому рядку літера f зустрічається тільки один раз, виведіть її індекс. Якщо вона зустрічається два і більше разів, виведіть індекс першого і останнього входження на одному рядку, розділених символом пробілу. Якщо літера \"f\" у цьому рядку не зустрічається, слід вивести \"NO\".\n",
    "\n",
    "\n",
    "<b>Sample Input</b><br>\n",
    "abcdefg\n",
    "\n",
    "<b>Sample Output</b><br> \n",
    "5\n",
    "\n",
    "\n",
    "\n",
    "\n",
    "\n"
   ]
  },
  {
   "cell_type": "code",
   "execution_count": 2,
   "id": "e6eddaff",
   "metadata": {},
   "outputs": [
    {
     "name": "stdout",
     "output_type": "stream",
     "text": [
      "NO\n"
     ]
    }
   ],
   "source": [
    "input_string = \"Ваш ввідний рядок тексту\"  # Замініть це на введений вами рядок\n",
    "\n",
    "first_f_index = input_string.find(\"f\")  # Знаходимо індекс першого входження \"f\"\n",
    "last_f_index = input_string.rfind(\"f\")  # Знаходимо індекс останнього входження \"f\"\n",
    "\n",
    "if first_f_index != -1:  # Якщо \"f\" була знайдена хоча б один раз\n",
    "    if first_f_index == last_f_index:  # Якщо \"f\" зустрічається тільки один раз\n",
    "        print(first_f_index)\n",
    "    else:  # Якщо \"f\" зустрічається два і більше разів\n",
    "        print(f\"{first_f_index} {last_f_index}\")\n",
    "else:\n",
    "    print(\"NO\")  # Якщо \"f\" не знайдена\n",
    "\n",
    "    "
   ]
  },
  {
   "cell_type": "markdown",
   "id": "4a97d73d",
   "metadata": {},
   "source": [
    "<b><div style=\"text-align: center;font-size: 24px;\">Простий шифр</div></b><br>\n",
    "\n",
    "На вхід до програми подається рядок тексту. Напишіть програму, яка перекладає кожен її символ у відповідний код з таблиці символів Unicode.\n",
    "\n",
    "\n",
    "<b>Sample Input</b><br>\n",
    "Hello world!\n",
    "\n",
    "<b>Sample Output</b><br> \n",
    "72 101 108 108 111 32 119 111 114 108 100 33\n",
    "\n",
    "\n",
    "\n",
    "\n"
   ]
  },
  {
   "cell_type": "code",
   "execution_count": 4,
   "id": "e0c577b3",
   "metadata": {},
   "outputs": [
    {
     "name": "stdout",
     "output_type": "stream",
     "text": [
      "72 101 108 108 111 32 119 111 114 108 100 33\n"
     ]
    }
   ],
   "source": [
    "input_string = \"Hello world!\"  # Замініть це на введений вами рядок\n",
    "\n",
    "# Ітеруємось по кожному символу у введеному рядку і переводимо його в код Unicode\n",
    "unicode_codes = [str(ord(char)) for char in input_string]\n",
    "\n",
    "# З'єднуємо коди Unicode пробілами і виводимо результат\n",
    "output_string = \" \".join(unicode_codes)\n",
    "print(output_string)\n",
    "\n"
   ]
  },
  {
   "cell_type": "markdown",
   "id": "fffce25a",
   "metadata": {},
   "source": [
    "<b><div style=\"text-align: center;font-size: 24px;\">Шифр Цезаря 🌶️</div></b><br>\n",
    "\n",
    "Легіон Цезаря, створений у 23 столітті на основі Римської Імперії не зраджує давніх традицій і використовує шифр Цезаря. Це їх і підвело, адже цей шифр дуже простий. Однак у постапокаліпсисі люди погано знають усі тонкощі довоєнного світу, тому вчені з НКР не можуть зрозуміти, як потрібно декодувати дані повідомлення. Напишіть програму декодування цього шифру.\n",
    "\n",
    "**Формат вхідних даних**\n",
    "У першому рядку дається число (1≤ n≤ 25) – зсув, у другому рядку дається закодоване повідомлення у вигляді рядка зі малими латинськими літерами.\n",
    "\n",
    "**Формат вихідних даних**\n",
    "Програма має вивести один рядок – декодоване повідомлення. Зверніть увагу на те, що потрібно декодувати повідомлення, а не закодувати.\n",
    "\n",
    "\n",
    "<b>Sample Input</b><br>\n",
    "14  \n",
    "fsfftsfufksttskskt\n",
    "\n",
    "\n",
    "<b>Sample Output</b><br> \n",
    "rerrfergrweffewewf\n",
    "\n",
    "\n",
    "\n",
    "\n",
    "\n",
    "\n"
   ]
  },
  {
   "cell_type": "code",
   "execution_count": 5,
   "id": "7503b4d3",
   "metadata": {},
   "outputs": [
    {
     "name": "stdout",
     "output_type": "stream",
     "text": [
      "k\n"
     ]
    },
    {
     "ename": "ValueError",
     "evalue": "invalid literal for int() with base 10: 'k'",
     "output_type": "error",
     "traceback": [
      "\u001b[0;31m---------------------------------------------------------------------------\u001b[0m",
      "\u001b[0;31mValueError\u001b[0m                                Traceback (most recent call last)",
      "Cell \u001b[0;32mIn[5], line 1\u001b[0m\n\u001b[0;32m----> 1\u001b[0m shift \u001b[38;5;241m=\u001b[39m \u001b[38;5;28;43mint\u001b[39;49m\u001b[43m(\u001b[49m\u001b[38;5;28;43minput\u001b[39;49m\u001b[43m(\u001b[49m\u001b[43m)\u001b[49m\u001b[43m)\u001b[49m  \u001b[38;5;66;03m# Зчитуємо зсув\u001b[39;00m\n\u001b[1;32m      2\u001b[0m encoded_message \u001b[38;5;241m=\u001b[39m \u001b[38;5;28minput\u001b[39m()  \u001b[38;5;66;03m# Зчитуємо закодоване повідомлення\u001b[39;00m\n\u001b[1;32m      4\u001b[0m decoded_message \u001b[38;5;241m=\u001b[39m \u001b[38;5;124m\"\u001b[39m\u001b[38;5;124m\"\u001b[39m  \u001b[38;5;66;03m# Ініціалізуємо рядок для декодованого повідомлення\u001b[39;00m\n",
      "\u001b[0;31mValueError\u001b[0m: invalid literal for int() with base 10: 'k'"
     ]
    }
   ],
   "source": [
    "shift = int(input())  # Зчитуємо зсув\n",
    "encoded_message = input()  # Зчитуємо закодоване повідомлення\n",
    "\n",
    "decoded_message = \"\"  # Ініціалізуємо рядок для декодованого повідомлення\n",
    "\n",
    "for char in encoded_message:\n",
    "    if char.isalpha():  # Перевіряємо, чи символ є літерою\n",
    "        shift_amount = (ord(char) - ord('a') - shift) % 26\n",
    "        decoded_char = chr(ord('a') + shift_amount)\n",
    "        decoded_message += decoded_char\n",
    "    else:\n",
    "        decoded_message += char\n",
    "\n",
    "print(decoded_message)\n"
   ]
  },
  {
   "cell_type": "code",
   "execution_count": null,
   "id": "6c9150bd",
   "metadata": {},
   "outputs": [],
   "source": []
  }
 ],
 "metadata": {
  "kernelspec": {
   "display_name": "Python 3 (ipykernel)",
   "language": "python",
   "name": "python3"
  },
  "language_info": {
   "codemirror_mode": {
    "name": "ipython",
    "version": 3
   },
   "file_extension": ".py",
   "mimetype": "text/x-python",
   "name": "python",
   "nbconvert_exporter": "python",
   "pygments_lexer": "ipython3",
   "version": "3.10.9"
  }
 },
 "nbformat": 4,
 "nbformat_minor": 5
}
